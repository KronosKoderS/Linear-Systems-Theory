{
 "cells": [
  {
   "cell_type": "markdown",
   "metadata": {},
   "source": [
    "**Definition:** A $\\underline{\\text{Limit Cycle}}$ in the phase-plane of a second-order system is an isolated closed trajectory.\n",
    "\n",
    "A Trajectory needs to be **closed** to indicate the periodic nature of the motino and **isolated** to indicate the ***?????*** nature of the system.\n",
    "\n",
    "There are **3** kinds of Limit Cycles:\n",
    "\n",
    "1. **Stable:** All trajectories in the vicinity of the Limit Cycle converge to the Limit Cycle as $t \\rightarrow \\infty$\n",
    "2. **Unstable:** All trajectories in the vicinity of the Limit Cycle diverge from it as $t \\rightarrow \\infty$\n",
    "3. **Semi-Stable:** Some of the trajectories in the vicinity of the Limit Cycle converge to it as $t \\rightarrow \\infty$"
   ]
  },
  {
   "cell_type": "markdown",
   "metadata": {},
   "source": [
    "Example:\n",
    "\n",
    "$\\begin{cases}\n",
    "    \\dot{x}_1 = x_2 - x_1(x_1^2 + x_2^2 - 1) \\\\\n",
    "    \\dot{x}_2 = -x_1 - x_2(x_1^2 + x_2^2 -1)\n",
    "\\end{cases} \\Longrightarrow \\underline{x} = [0, 0]^T \\text{ (equillibrium points)}$ \n",
    "\n",
    "The system shows a Limit Cycle $\\Rightarrow$ best seen in polar coords:\n",
    "\n",
    "$\\displaystyle r = \\sqrt{x_1^2 + x_2^2}; \\quad \\theta = \\tan^-1 \\left(\\frac{x_2}{x_1}\\right) \\Rightarrow \\text{ transformation}$\n",
    "\n",
    "$\\begin{cases}\n",
    "    \\dot{r} = r(r-1) \\\\\n",
    "    \\dot{\\theta} = -1\n",
    "\\end{cases} \\Rightarrow \\, \\dot{r} = 0, \\,\\text{when } r=0,\\, 1$\n",
    "\n",
    "$r=0$ is an isolated point at the origin.  $r=1$ is a unitary circle.  Let's look at the overall solution:\n",
    "\n",
    "$\\displaystyle \n",
    "\\begin{matrix}\n",
    "    r(t) = && \\frac{1}{\\sqrt{1 + c_0 e^{-2 t}}} \\\\\n",
    "    \\theta(t) = && \\theta_0 - t\n",
    "\\end{matrix} , \\quad c_0 = \\frac{1}{r_0^2} - 1$\n",
    "\n",
    "For $r_0 = 1 \\Rightarrow r(t) = 1$.  $r(t)$ stays on the circle and rotates periodically with $\\dot{\\theta}(t) = -1$\n",
    "\n",
    "For any other solution $(r_0 \\neq 1) \\Rightarrow c_0 e^{-2t} \\rightarrow 0 \\Rightarrow r(t) \\rightarrow 1 \\Rightarrow \\underline{\\text{ Stable Limit Cycle!}}$"
   ]
  },
  {
   "cell_type": "code",
   "execution_count": null,
   "metadata": {
    "collapsed": true
   },
   "outputs": [],
   "source": []
  }
 ],
 "metadata": {
  "kernelspec": {
   "display_name": "Python 3",
   "language": "python",
   "name": "python3"
  },
  "language_info": {
   "codemirror_mode": {
    "name": "ipython",
    "version": 3
   },
   "file_extension": ".py",
   "mimetype": "text/x-python",
   "name": "python",
   "nbconvert_exporter": "python",
   "pygments_lexer": "ipython3",
   "version": "3.5.1"
  }
 },
 "nbformat": 4,
 "nbformat_minor": 0
}
