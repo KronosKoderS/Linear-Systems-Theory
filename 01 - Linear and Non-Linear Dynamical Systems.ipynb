{
 "cells": [
  {
   "cell_type": "markdown",
   "metadata": {},
   "source": [
    "# General Dynamical Models\n",
    "\n",
    "Consider a dynamical model in the most general form:\n",
    "\n",
    "$ \\begin{matrix}\n",
    "    \\dot{x}_1 & = & f_1(t_1 x_1, \\dots, x_n; u_1, \\dots, u_p) \\\\\n",
    "    \\vdots & & \\\\\n",
    "    \\dot{x}_n & = & f_n(t_1 x_1, \\dots, x_n; u_1, \\dots, u_p) \\\\\n",
    "\\end{matrix} \\quad \\Rightarrow \\quad\n",
    "\\underline{\\dot{x}} = \\underline{f}(t, \\underline{x}; \\underline{u}) \\quad \\text{ where } \\, \\underline{x} \\in \\mathbb{R}^n, \\, \\underline{u} \\in \\mathbb{R}^p\n",
    "$\n",
    "\n",
    "Here, the system solution $\\underline{x}(t)$ (state) is represented by a set of $n$-first order non-linear equations.  $\\underline{x}(t)$ is the state of the system and $\\underline{u}(t)$ is the input (control & disturbances) of the system.  "
   ]
  },
  {
   "cell_type": "markdown",
   "metadata": {},
   "source": [
    "Sometimes the state of the system cannot be measured.  The following output equation is therefore considered:\n",
    "\n",
    "$\n",
    "\\begin{cases}\n",
    "    \\underline{\\dot{x}} = \\underline{f}(t, \\underline{x}, \\underline{u}) \\\\\n",
    "    \\underline{y} = \\underline{h}(t, \\underline{x}, \\underline{u}) \\\\\n",
    "\\end{cases}\n",
    "\\quad \\text{ where the output is } \\underline{y} \\in \\mathbb{R}^p\n",
    "$"
   ]
  },
  {
   "cell_type": "markdown",
   "metadata": {},
   "source": [
    "From the general form, the following special cases can be derived:\n",
    "\n",
    "1. Linear Systems (Time Variant)\n",
    "    \n",
    "    $\\begin{matrix} \n",
    "        \\begin{split} \n",
    "            \\underline{\\dot{x}} = A(t)\\underline{x} + B(t)\\underline{u} & where & A(t) \\in \\mathbb{M}(n \\times m) \\\\\n",
    "            \\underline{\\dot{y}} = C(t)\\underline{x} = D(t) \\underline{v} & & B(t) = \\mathbb{M}(n \\times p)\n",
    "        \\end{split} \n",
    "        &\n",
    "        where\n",
    "        &\n",
    "        \\begin{split}\n",
    "            A(t) \\in M(n \\times m) \\\\\n",
    "            B(t) \\in M(n \\times p) \\\\\n",
    "            C(t) = M(q \\times n) \\\\\n",
    "            D(t) = M(q \\times p)\n",
    "        \\end{split}\n",
    "    \\end{matrix}\n",
    "    $\n",
    "    \n",
    "2. Unforced State Equations\n",
    "\n",
    "    $\\begin{cases}\n",
    "        \\underline{\\dot{x}} = \\underline{f}(t, \\underline{x}) \\\\\n",
    "        \\underline{y} = \\underline{h}(t, \\underline{x})\\\\\n",
    "    \\end{cases} \\rightarrow $ generally resulting from $\\underline{u} = \\phi(t, \\underline{x})$ (for example from feedback)\n",
    "    \n",
    "3. Autonomous Systems\n",
    "\n",
    "    $\\begin{cases}\n",
    "        \\underline{\\dot{x}} = \\underline{f}(\\underline{x}) \\\\\n",
    "        \\underline{y} = \\underline{h}(\\underline{x})\n",
    "    \\end{cases} \\Rightarrow \\text{ Linear Case } \\begin{cases}\n",
    "        \\underline{\\dot{x}} = A \\underline{x} \\\\\n",
    "        \\underline{y} = C \\underline{x}\n",
    "    \\end{cases}$\n",
    "    \n",
    "4. Time Invariant (TI) Systems\n",
    "\n",
    "    A TI state model has the porperty that shifting the initial time form $t_0 \\rightarrow t_0 + a$ and provided that the input waveform is applied to $t_0 + a$, the solution will not change (Time Invariance):\n",
    "    \n",
    "    $\\underline{\\dot{x}} = \\underline{f}(\\underline{x}, \\underline{u})$\n",
    "    \n",
    "    $\\underline{y} = \\underline{h}(\\underline{x}, \\underline{u})$"
   ]
  },
  {
   "cell_type": "markdown",
   "metadata": {
    "collapsed": true
   },
   "source": [
    "# Existense and Uniqueness of the Solution\n",
    "\n",
    "**Definition:** A function $\\underline{f}(t, \\underline{x})$ is $\\underline{\\text{piecewise continuous}}$ in $t$ over an interval $J \\in \\mathbb{R}$ if, for every bounded subinterval $J_0 \\in J$, $f$ is continous in $t$ for all $t \\in J_0$ except for at most a finite number of points where $f$ may have finite-jump discontinuities:"
   ]
  },
  {
   "cell_type": "markdown",
   "metadata": {},
   "source": [
    "## !!!!! TODO:INSERT GRAPHICS !!!!!"
   ]
  },
  {
   "cell_type": "markdown",
   "metadata": {},
   "source": [
    "**Definition:** A function $\\underline{f}(t, \\underline{x})$ is locally $\\underline{\\text{Lipshitz}}$ in $\\underline{x}$ at a point $\\underline{x}_0$ if there exists a neighborhood $N(\\underline{x}_0, r) = \\lbrace \\underline{x} \\in \\mathbb{R}^n \\, | \\, \\|\\underline{x} = \\underline{x}_0\\| < r \\rbrace$ where $\\underline{f}(t, \\underline{x})$ statisfies the $\\underline{\\text{Lipschitz Condition}}$, i.e.:\n",
    "\n",
    "$\\| \\underline{f}(t, \\underline{x}) - \\underline{f}(t, \\underline{y})\\| \\, \\le L\\, \\| \\underline{x} - \\underline{y} \\|,\\, L > 0$\n",
    "\n",
    "A function $\\underline{f}(t, \\underline{x})$ is locally Lipschitz in $\\underline{x}$ on a domain $D \\in \\mathbb{R}^n$ (open and connected) if it is locally Lipshitz at $\\forall \\underline{x}_0 \\in D$"
   ]
  },
  {
   "cell_type": "markdown",
   "metadata": {
    "collapsed": true
   },
   "source": [
    "Interpretation: Let $n = 1 \\Rightarrow$ Lipshitz Condition implies:"
   ]
  },
  {
   "cell_type": "markdown",
   "metadata": {},
   "source": [
    "## !!!! TODO:INSERT GRAPHICS !!!!!"
   ]
  },
  {
   "cell_type": "markdown",
   "metadata": {},
   "source": [
    "* Any $f(x)$ that has an infinite slope at some point is not locally Lipshitz at that point\n",
    "* A discontinuous function is not locally Lipshitz at the point of dicontinuity"
   ]
  },
  {
   "cell_type": "markdown",
   "metadata": {},
   "source": [
    "## Example:\n",
    "\n",
    "$f(x) = x^{1/3}$ is not locally Lipshitz at $x=0$.  This is becuase $f'(x) = 1/3 x^{-2/3} \\rightarrow \\infty$ as $x \\rightarrow 0$ (slope of $\\infty$).  However $f(x)$ is locally Lipshitz at any $x_0 \\neq 0$ becuase $f'(x_0)$ is bounded by a constant $k \\Rightarrow$ Lipshitz with $k=L$."
   ]
  },
  {
   "cell_type": "markdown",
   "metadata": {},
   "source": [
    "## More General Statement:\n",
    "\n",
    "If for $t \\in J \\subset \\mathbb{R}$ and $\\underline{x}$ in a domain $D \\subset \\mathbb{R}^n$, $\\underline{f}(t, \\underline{x})$ and partial derviative $\\frac{\\partial f_i}{\\partial x_j}$ are continous, then $\\underline{f}(t, \\underline{x})$ is locally Lipshitz in $\\underline{x}$ on $D$.  "
   ]
  },
  {
   "cell_type": "markdown",
   "metadata": {},
   "source": [
    "Consider now the non-Autonomous system:\n",
    "\n",
    "$\\underline{\\dot{x}} = \\underline{f}(t, \\underline{x})$ where $\\underline{f}(t, \\underline{x})$ is a piecewise continuous function in $t$ and locally Lipshitz in $\\underline{x}$ at $\\underline{x_0}$ then, there is a $\\partial > 0$ such that the state equation with $\\underline{x}(t_0) = x_0$ has a unique solution over $[t, t + \\partial]$ (Theorem of Existence and Uniqueness of the Solution)\n",
    "\n",
    "This theorem is a local result and garantees the existence and uniqueness of the solution in a local interval $[t, t+\\partial] \\rightarrow$ solution may cease to exist after a certain point.\n",
    "\n",
    "Lipshitz Condition is critical to ensure uniqueness.  Indeed consider the following:\n",
    "\n",
    "$\\begin{cases}\n",
    "    \\dot{x} = u^{1/3} \\\\\n",
    "    x(0) = x_0 = 0\n",
    "\\end{cases} \\rightarrow$ solve by seperation of variables $\\frac{\\partial x}{x^{1/3}} = \\partial t$\n",
    "\n",
    "$\\int_{x_0}^x \\frac{\\partial x}{x^{1/3}} = \\int_0^t \\partial t \\Rightarrow 3/2 x^{2/3} |_{x_0}^x = t \\Rightarrow x^{2/3} - x_0^{2/3} = 2/3 t$\n",
    "\n",
    "for $x_0 \\Rightarrow x(t) = (2/3 t)^{3/2} \\rightarrow$ however $x(t) = 0$ is also an admissible solution $\\Rightarrow$ **2 solutions!** $\\rightarrow$ non unique."
   ]
  },
  {
   "cell_type": "markdown",
   "metadata": {},
   "source": [
    "## Example\n",
    "\n",
    "$\\begin{cases}\n",
    "    \\dot{x} = -x^2 \\\\\n",
    "    x(0) = -1\n",
    "\\end{cases} \\Rightarrow SV \\Rightarrow \\int_{x_0}^x \\frac{\\partial x}{x^2} = \\int_0^t \\partial t \\rightarrow x(t) = \\frac{1}{t - 1}$\n",
    "\n",
    "Note that $x(t) \\rightarrow - \\infty$ as $t \\rightarrow \\infty \\Rightarrow$ Solution has a finite $\\underline{\\text{escape time}}$ (Property of non-linear systems)."
   ]
  },
  {
   "cell_type": "markdown",
   "metadata": {},
   "source": [
    "# Global Existence and Uniqueness\n",
    "\n",
    "A function $\\underline{f}(t, \\underline{x})$ is globally Lipshitz (GL) in $\\underline{x} \\text{ if } \\| \\underline{f}(t, \\underline{x}) - \\underline{f}(t, \\underline{y}) \\| \\leq L \\| \\underline{x} - \\underline{y} \\|$ for all $\\underline{x}, \\underline{y} \\in \\mathbb{R}^n$ with the same $L$.  \n",
    "\n",
    "If $\\underline{f}(t, \\underline{x})$ and $\\frac{\\partial f_i}{\\partial x_j}$ are continous for all $\\underline{x} \\in \\mathbb{R}^n$ **then** $\\underline{f}(t, \\underline{x})$ is GL in $\\underline{x}$ **if and only if** $\\frac{\\partial f_i}{\\partial x_j}$ are globally bounded, uniformly in $t$.  "
   ]
  },
  {
   "cell_type": "markdown",
   "metadata": {},
   "source": [
    "## Example\n",
    "\n",
    "$f(x) = -x^2$ is LL but not GL becuase $f'(x) = -2x$ is **unbounded**.  "
   ]
  },
  {
   "cell_type": "markdown",
   "metadata": {},
   "source": [
    "***Theorem:*** Let $f(t, \\underline{x})$ be piecewise continous in $t$, and GL in $\\underline{x}$ for all $t \\in [t_0, t]$.  Then $\\underline{\\dot{x}} = \\underline{f}(t, \\underline{x})$ with $\\underline{x}(0) = \\underline{x}_0$ has a unique solution over $[t_0, t_1]$.  \n",
    "\n",
    "*All* linear systems in the form:\n",
    "\n",
    "$\\underline{\\dot{x}} = A(t) \\underline{x} + g(t)$\n",
    "\n",
    "Satisfies the GL condition.  Nevertheless, it is too restrictive for general Non-Autonomous Systems."
   ]
  },
  {
   "cell_type": "markdown",
   "metadata": {},
   "source": [
    "***Theorem:*** Let $f(t, \\underline{x})$ be piecewise continous in $t$ and locally Lipshitz in $\\underline{x}$ for all $t \\geq t_0$ and all $\\underline{x}$ in a domain $D \\subset \\mathbb{R}^n$.  Let $W$ be a compact subset of $D$ and suppose that every solution of: \n",
    "\n",
    "$\\underline{\\dot{x}} = f(\\underline{x}, t), \\underline{x}(t_0) = x_0$ with $x_0 \\in W$\n",
    "\n",
    "lies completely in $W$.  Then, there exists a unique solution defined for $t \\geq t_0$.  "
   ]
  },
  {
   "cell_type": "markdown",
   "metadata": {},
   "source": [
    "### Example:\n",
    "\n",
    "Given"
   ]
  }
 ],
 "metadata": {
  "kernelspec": {
   "display_name": "Python 3",
   "language": "python",
   "name": "python3"
  },
  "language_info": {
   "codemirror_mode": {
    "name": "ipython",
    "version": 3
   },
   "file_extension": ".py",
   "mimetype": "text/x-python",
   "name": "python",
   "nbconvert_exporter": "python",
   "pygments_lexer": "ipython3",
   "version": "3.5.1"
  }
 },
 "nbformat": 4,
 "nbformat_minor": 0
}
