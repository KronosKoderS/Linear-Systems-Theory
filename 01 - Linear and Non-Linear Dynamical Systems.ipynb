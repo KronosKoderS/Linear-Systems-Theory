{
 "cells": [
  {
   "cell_type": "markdown",
   "metadata": {},
   "source": [
    "# General Dynamical Models\n",
    "\n",
    "Consider a dynamical model in the most general form:\n",
    "\n",
    "$ \\begin{matrix}\n",
    "    \\dot{x}_1 & = & f_1(t_1 x_1, \\dots, x_n; u_1, \\dots, u_p) \\\\\n",
    "    \\vdots & & \\\\\n",
    "    \\dot{x}_n & = & f_n(t_1 x_1, \\dots, x_n; u_1, \\dots, u_p) \\\\\n",
    "\\end{matrix} \\quad \\Rightarrow \\quad\n",
    "\\underline{\\dot{x}} = \\underline{f}(t, \\underline{x}; \\underline{u}) \\quad \\text{ where } \\, \\underline{x} \\in \\mathbb{R}^n, \\, \\underline{u} \\in \\mathbb{R}^p\n",
    "$\n",
    "\n",
    "Here, the system solution $\\underline{x}(t)$ (state) is represented by a set of $n$-first order non-linear equations.  $\\underline{x}(t)$ is the state of the system and $\\underline{u}(t)$ is the input (control & disturbances) of the system.  "
   ]
  },
  {
   "cell_type": "markdown",
   "metadata": {},
   "source": [
    "Sometimes the state of the system cannot be measured.  The following output equation is therefore considered:\n",
    "\n",
    "$\n",
    "\\begin{cases}\n",
    "    \\underline{\\dot{x}} = \\underline{f}(t, \\underline{x}, \\underline{u}) \\\\\n",
    "    \\underline{y} = \\underline{h}(t, \\underline{x}, \\underline{u}) \\\\\n",
    "\\end{cases}\n",
    "\\quad \\text{ where the output is } \\underline{y} \\in \\mathbb{R}^p\n",
    "$"
   ]
  },
  {
   "cell_type": "markdown",
   "metadata": {},
   "source": [
    "From the general form, the following special cases can be derived:\n",
    "\n",
    "1. Linear Systems (Time Variant)\n",
    "    \n",
    "    $\\begin{matrix} \n",
    "        \\begin{split} \n",
    "            \\underline{\\dot{x}} = A(t)\\underline{x} + B(t)\\underline{u} & where & A(t) \\in \\mathbb{M}(n \\times m) \\\\\n",
    "            \\underline{\\dot{y}} = C(t)\\underline{x} = D(t) \\underline{v} & & B(t) = \\mathbb{M}(n \\times p)\n",
    "        \\end{split} \n",
    "        &\n",
    "        where\n",
    "        &\n",
    "        \\begin{split}\n",
    "            A(t) \\in M(n \\times m) \\\\\n",
    "            B(t) \\in M(n \\times p) \\\\\n",
    "            C(t) = M(q \\times n) \\\\\n",
    "            D(t) = M(q \\times p)\n",
    "        \\end{split}\n",
    "    \\end{matrix}\n",
    "    $\n",
    "    \n",
    "2. Unforced State Equations\n",
    "\n",
    "    $\\begin{cases}\n",
    "        \\underline{\\dot{x}} = \\underline{f}(t, \\underline{x}) \\\\\n",
    "        \\underline{y} = \\underline{h}(t, \\underline{x})\\\\\n",
    "    \\end{cases} \\rightarrow $ generally resulting from $\\underline{u} = \\phi(t, \\underline{x})$ (for example from feedback)\n",
    "    \n",
    "3. Autonomous Systems\n",
    "\n",
    "    $\\begin{cases}\n",
    "        \\underline{\\dot{x}} = \\underline{f}(\\underline{x}) \\\\\n",
    "        \\underline{y} = \\underline{h}(\\underline{x})\n",
    "    \\end{cases} \\Rightarrow \\text{ Linear Case } \\begin{cases}\n",
    "        \\underline{\\dot{x}} = A \\underline{x} \\\\\n",
    "        \\underline{y} = C \\underline{x}\n",
    "    \\end{cases}$\n",
    "    \n",
    "4. Time Invariant (TI) Systems\n",
    "\n",
    "    A TI state model has the porperty that shifting the initial time form $t_0 \\rightarrow t_0 + a$ and provided that the input waveform is applied to $t_0 + a$, the solution will not change (Time Invariance):\n",
    "    \n",
    "    $\\underline{\\dot{x}} = \\underline{f}(\\underline{x}, \\underline{u})$\n",
    "    \n",
    "    $\\underline{y} = \\underline{h}(\\underline{x}, \\underline{u})$"
   ]
  },
  {
   "cell_type": "markdown",
   "metadata": {
    "collapsed": true
   },
   "source": [
    "# Existense and Uniqueness of the Solution\n",
    "\n",
    "**Definition:** A function $\\underline{f}(t, \\underline{x})$ is $\\underline{\\text{piecewise continuous}}$ in $t$ over an interval $J \\in \\mathbb{R}$ if, for every bounded subinterval $J_0 \\in J$, $f$ is continous in $t$ for all $t \\in J_0$ except for at most a finite number of points where $f$ may have finite-jump discontinuities:"
   ]
  },
  {
   "cell_type": "markdown",
   "metadata": {},
   "source": [
    "## !!!!! TODO:INSERT GRAPHICS !!!!!"
   ]
  },
  {
   "cell_type": "markdown",
   "metadata": {},
   "source": [
    "**Definition:** A function $\\underline{f}(t, \\underline{x})$ is locally $\\underline{\\text{Lipshitz}}$ in $\\underline{x}$ at a point $\\underline{x}_0$ if there exists a neighborhood $N(\\underline{x}_0, r) = \\lbrace \\underline{x} \\in \\mathbb{R}^n \\, | \\, \\|\\underline{x} = \\underline{x}_0\\| < r \\rbrace$ where $\\underline{f}(t, \\underline{x})$ statisfies the $\\underline{\\text{Lipschitz Condition}}$, i.e.:\n",
    "\n",
    "$\\| \\underline{f}(t, \\underline{x}) - \\underline{f}(t, \\underline{y})\\| \\, \\le L\\, \\| \\underline{x} - \\underline{y} \\|,\\, L > 0$\n",
    "\n",
    "A function $\\underline{f}(t, \\underline{x})$ is locally Lipschitz in $\\underline{x}$ on a domain $D \\in \\mathbb{R}^n$ (open and connected) if it is locally Lipshitz at $\\forall \\underline{x}_0 \\in D$"
   ]
  },
  {
   "cell_type": "markdown",
   "metadata": {
    "collapsed": true
   },
   "source": [
    "Interpretation: Let $n = 1 \\Rightarrow$ Lipshitz Condition implies:"
   ]
  },
  {
   "cell_type": "markdown",
   "metadata": {},
   "source": [
    "## !!!! TODO:INSERT GRAPHICS !!!!!"
   ]
  },
  {
   "cell_type": "markdown",
   "metadata": {},
   "source": [
    "* Any $f(x)$ that has an infinite slope at some point is not locally Lipshitz at that point\n",
    "* A discontinuous function is not locally Lipshitz at the point of dicontinuity"
   ]
  },
  {
   "cell_type": "markdown",
   "metadata": {},
   "source": [
    "## Example:\n",
    "\n",
    "$f(x) = x^{1/3}$ is not locally Lipshitz at $x=0$.  This is becuase $f'(x) = 1/3 x^{-2/3} \\rightarrow \\infty$ as $x \\rightarrow 0$ (slope of $\\infty$).  However $f(x)$ is locally Lipshitz at any $x_0 \\neq 0$ becuase $f'(x_0)$ is bounded by a constant $k \\Rightarrow$ Lipshitz with $k=L$."
   ]
  },
  {
   "cell_type": "markdown",
   "metadata": {},
   "source": [
    "## More General Statement:\n",
    "\n",
    "If for $t \\in J \\subset \\mathbb{R}$ and $\\underline{x}$ in a domain $D \\subset \\mathbb{R}^n$, $\\underline{f}(t, \\underline{x})$ and partial derviative $\\frac{\\partial f_i}{\\partial x_j}$ are continous, then $\\underline{f}(t, \\underline{x})$ is locally Lipshitz in $\\underline{x}$ on $D$.  "
   ]
  },
  {
   "cell_type": "markdown",
   "metadata": {},
   "source": [
    "Consider now the non-Autonomous system:\n",
    "\n",
    "$\\underline{\\dot{x}} = \\underline{f}(t, \\underline{x})$ where $\\underline{f}(t, \\underline{x})$ is a piecewise continuous function in $t$ and locally Lipshitz in $\\underline{x}$ at $\\underline{x_0}$ then, there is a $\\partial > 0$ such that the state equation with $\\underline{x}(t_0) = x_0$ has a unique solution over $[t, t + \\partial]$ (Theorem of Existence and Uniqueness of the Solution)\n",
    "\n",
    "This theorem is a local result and garantees the existence and uniqueness of the solution in a local interval $[t, t+\\partial] \\rightarrow$ solution may cease to exist after a certain point.\n",
    "\n",
    "Lipshitz Condition is critical to ensure uniqueness.  Indeed consider the following:\n",
    "\n",
    "$\\begin{cases}\n",
    "    \\dot{x} = u^{1/3} \\\\\n",
    "    x(0) = x_0 = 0\n",
    "\\end{cases} \\rightarrow$ solve by seperation of variables $\\frac{\\partial x}{x^{1/3}} = \\partial t$\n",
    "\n",
    "$\\int_{x_0}^x \\frac{\\partial x}{x^{1/3}} = \\int_0^t \\partial t \\Rightarrow 3/2 x^{2/3} |_{x_0}^x = t \\Rightarrow x^{2/3} - x_0^{2/3} = 2/3 t$\n",
    "\n",
    "for $x_0 \\Rightarrow x(t) = (2/3 t)^{3/2} \\rightarrow$ however $x(t) = 0$ is also an admissible solution $\\Rightarrow$ **2 solutions!** $\\rightarrow$ non unique."
   ]
  },
  {
   "cell_type": "markdown",
   "metadata": {},
   "source": [
    "## Example\n",
    "\n",
    "$\\begin{cases}\n",
    "    \\dot{x} = -x^2 \\\\\n",
    "    x(0) = -1\n",
    "\\end{cases} \\Rightarrow SV \\Rightarrow \\int_{x_0}^x \\frac{\\partial x}{x^2} = \\int_0^t \\partial t \\rightarrow x(t) = \\frac{1}{t - 1}$\n",
    "\n",
    "Note that $x(t) \\rightarrow - \\infty$ as $t \\rightarrow \\infty \\Rightarrow$ Solution has a finite $\\underline{\\text{escape time}}$ (Property of non-linear systems)."
   ]
  },
  {
   "cell_type": "markdown",
   "metadata": {},
   "source": [
    "# Global Existence and Uniqueness\n",
    "\n",
    "A function $\\underline{f}(t, \\underline{x})$ is globally Lipshitz (GL) in $\\underline{x} \\text{ if } \\| \\underline{f}(t, \\underline{x}) - \\underline{f}(t, \\underline{y}) \\| \\leq L \\| \\underline{x} - \\underline{y} \\|$ for all $\\underline{x}, \\underline{y} \\in \\mathbb{R}^n$ with the same $L$.  \n",
    "\n",
    "If $\\underline{f}(t, \\underline{x})$ and $\\frac{\\partial f_i}{\\partial x_j}$ are continous for all $\\underline{x} \\in \\mathbb{R}^n$ **then** $\\underline{f}(t, \\underline{x})$ is GL in $\\underline{x}$ **if and only if** $\\frac{\\partial f_i}{\\partial x_j}$ are globally bounded, uniformly in $t$.  "
   ]
  },
  {
   "cell_type": "markdown",
   "metadata": {},
   "source": [
    "## Example\n",
    "\n",
    "$f(x) = -x^2$ is LL but not GL becuase $f'(x) = -2x$ is **unbounded**.  "
   ]
  },
  {
   "cell_type": "markdown",
   "metadata": {},
   "source": [
    "***Theorem:*** Let $f(t, \\underline{x})$ be piecewise continous in $t$, and GL in $\\underline{x}$ for all $t \\in [t_0, t]$.  Then $\\underline{\\dot{x}} = \\underline{f}(t, \\underline{x})$ with $\\underline{x}(0) = \\underline{x}_0$ has a unique solution over $[t_0, t_1]$.  \n",
    "\n",
    "*All* linear systems in the form:\n",
    "\n",
    "$\\underline{\\dot{x}} = A(t) \\underline{x} + g(t)$\n",
    "\n",
    "Satisfies the GL condition.  Nevertheless, it is too restrictive for general Non-Autonomous Systems."
   ]
  },
  {
   "cell_type": "markdown",
   "metadata": {},
   "source": [
    "***Theorem:*** Let $f(t, \\underline{x})$ be piecewise continous in $t$ and locally Lipshitz in $\\underline{x}$ for all $t \\geq t_0$ and all $\\underline{x}$ in a domain $D \\subset \\mathbb{R}^n$.  Let $W$ be a compact subset of $D$ and suppose that every solution of: \n",
    "\n",
    "$\\underline{\\dot{x}} = f(\\underline{x}, t), \\underline{x}(t_0) = x_0$ with $x_0 \\in W$\n",
    "\n",
    "lies completely in $W$.  Then, there exists a unique solution defined for $t \\geq t_0$.  "
   ]
  },
  {
   "cell_type": "markdown",
   "metadata": {},
   "source": [
    "### Example:\n",
    "\n",
    "$\\dot{x} = -x^3 = f(x) \\rightarrow$ locally Lipschitz in $x \\in \\mathbb{R}$ but since $f'(x) = -3x^2$ it is unbounded $\\Rightarrow f(x)$ not GL.  Note that if $x(t) > 0$ at any $t$, $x'(t) < 0 \\Rightarrow$ if $x(0) = x_0 > 0 \\Rightarrow x(t)$ will decrease.  same for the $x(t) < 0 \\Rightarrow x'(t) > 0$ thus starting from $x(0) = x_0$ the solution cannot leave the compact set $\\lbrace x \\in \\mathbb{R} \\ |x| \\leq |x_0| \\rbrace \\Rightarrow$ Unique Solution.  "
   ]
  },
  {
   "cell_type": "markdown",
   "metadata": {},
   "source": [
    "# Equilibrium Points\n",
    "\n",
    "A point is the state space $\\underline{x}^*$ is said to be an $\\underline{\\text{equillibrium point}}$ of $\\underline{\\dot{x}} = \\underline{f}(t, \\underline{x})$ if:\n",
    "\n",
    "$\\underline{x}(t_0) = \\underline{x}^* \\Rightarrow \\underline{x}(t) = \\underline{x}^*, \\quad \\forall t \\geq t_0$\n",
    "\n",
    "* For autonomous systems $\\underline{\\dot{x}} = \\underline{f}(\\underline{x})$, eq points are found by solving:\n",
    "    \n",
    "    $\\underline{f}(\\underline{x}) = \\underline{0}$\n",
    "    \n",
    "* Equillibrium points can be either **isolated** or continuous:\n",
    "    * Isolated: no other eq points nearby\n",
    "    * Continuous: many eq points\n",
    "    \n",
    "* Linear systems ($\\underline{\\dot{x}} = Ax$):\n",
    "    * A non singular ($\\det A \\neq 0) \\Rightarrow \\underline{x}^* = \\underline{0}$ is the only eq point.  \n",
    "    * A singular ($\\det A = 0) \\Rightarrow$ Continum is the null space $N(A) \\rightarrow$ eq points.  \n",
    "    * Cannot have multiple isolated eq points.  \n",
    "    \n",
    "* Non-Linear Systems $\\underline{\\dot{x}} = \\underline{f}(\\underline{x})$ can have multiple isolated eq points:\n",
    "\n",
    "    $\\begin{cases}\n",
    "        \\dot{x_1} = x_2 \\\\\n",
    "        \\dot{x_2} = -a \\sin x_1 - b x_2\n",
    "    \\end{cases} \\Rightarrow$ Eq. points are found ($\\underline{f}(\\underline{x}) = \\underline{0}$)\n",
    "    \n",
    "    $\\begin{cases}\n",
    "        x_1 = n \\pi, \\quad n = 0, \\pm 1, \\dots \\\\\n",
    "        x_2 = 0\n",
    "    \\end{cases}$"
   ]
  },
  {
   "cell_type": "markdown",
   "metadata": {},
   "source": [
    "# Linearization (Concept)\n",
    "\n",
    "Linearization is a very important tool for the analysis of Non-Linear Systems.  "
   ]
  },
  {
   "cell_type": "markdown",
   "metadata": {},
   "source": [
    "## Approach:\n",
    "\n",
    "Consider a nominal \"operating\" point and approximate the non-linear system with a linear one:\n",
    "\n",
    "$\\underline{\\dot{x}} = \\underline{f}(\\underline{x}) \\Rightarrow \\underline{\\dot{x}} = A\\underline{x}, \\quad A = \\frac{\\partial \\underline{f}}{\\partial \\underline{x}} |_{\\underline{x}^*}$"
   ]
  },
  {
   "cell_type": "markdown",
   "metadata": {},
   "source": [
    "## Limitations:\n",
    "\n",
    "1. Approximating linear systems can only predict **local** behavior, i.e. behavior that is close to the operating point (No gloval/non-local behavior prediction).  \n",
    "\n",
    "2. It cannot capture/describe non-linear phenomena that are possible only because of non-linearization.  \n",
    "\n",
    "    * Finite time escape\n",
    "    * Multiple isolated pointes\n",
    "    * Limit cycles\n",
    "    * Quasi-periodic oscillations\n",
    "    * Chaos\n",
    "    * Multiple modes behavior"
   ]
  },
  {
   "cell_type": "markdown",
   "metadata": {},
   "source": [
    "# Second-order Systems.  Analysis and Qualitative Behavior.\n",
    "\n",
    "Second-order systems (Autonomous) are generally represented by the following equations:\n",
    "\n",
    "$ \\underline{\\dot{x}} = \\underline{f}(\\underline{x}) \\Rightarrow \n",
    "\\begin{cases}\n",
    "    \\dot{x}_1 = f_1(x_1, x_2) \\\\\n",
    "    \\dot{x}_2 = f_2(x_1, x_2)\n",
    "\\end{cases}  \\text{ State Space is } \\mathbb{R}^2$\n",
    "\n",
    "Starting from $\\underline{x}(t_0) = [x_{10}, x_{20}]^T$ the system will evolve as $\\underline{x}(t) = [x_1(t), x_2(t)]$.  The following are defined:\n",
    "\n",
    "* **Definition:**  We call $\\underline{\\text{Trajectory}}$ or $\\underline{\\text{orbit}}$ the locus points (curve) in the $x_1 - x_2$ plane of $\\underline{x}(t)$ for $\\forall t \\geq t_0$ that passes for $\\underline{x}_0$.  \n",
    "    \n",
    "* **Definition:**  We call the $\\underline{\\text{state-plane}}$ or $\\underline{\\text{phase plane}}$ the plane $x_1 - x_2$.  \n",
    "\n",
    "* **Definition:**  $\\underline{\\text{Vector field}}$ is the set of vectors in the phase-plane described by $\\underline{f}(x_1, x_2)$.  It is tangent to the trajectory at any point $\\underline{x}$:"
   ]
  },
  {
   "cell_type": "markdown",
   "metadata": {},
   "source": [
    "## !!!!! TODO: Insert Graphic !!!!!"
   ]
  },
  {
   "cell_type": "markdown",
   "metadata": {},
   "source": [
    "## Process for constructing the Phase Portrait:\n",
    "\n",
    "**Definition:** $\\underline{\\text{Phase-Portrait}}$ is the set of trajectories in the phase-plane:"
   ]
  },
  {
   "cell_type": "markdown",
   "metadata": {},
   "source": [
    "### Simple Example: Mass-Spring System"
   ]
  },
  {
   "cell_type": "markdown",
   "metadata": {},
   "source": [
    "### !!!!! TODO: Insert Graphic !!!!!"
   ]
  },
  {
   "cell_type": "markdown",
   "metadata": {},
   "source": [
    "$\\ddot{x} + x = 0 \\Rightarrow\n",
    "\\begin{cases}\n",
    "    \\dot{x_1} = x_2 \\\\\n",
    "    \\dot{x_2} = -x_1\n",
    "\\end{cases} \\quad \\text{(Linear System)}$\n",
    "\n",
    "Solution:\n",
    "\n",
    "$\\begin{cases}\n",
    "    x(t) = x_0 \\cos t \\\\\n",
    "    \\dot{x}(t) = -x_0 \\sin t\n",
    "\\end{cases}$\n",
    "\n",
    "Analytically we can find the trajectories by elimintating $t$.  That is:\n",
    "\n",
    "$x^2 + \\dot{x}^2 = x_0^2$\n",
    "\n",
    "Trajectories in the phase-place are circles:"
   ]
  },
  {
   "cell_type": "markdown",
   "metadata": {},
   "source": [
    "### !!!!! TODO: Insert Graphic !!!!!"
   ]
  },
  {
   "cell_type": "markdown",
   "metadata": {},
   "source": [
    "However, for more complex systems one needs to use a numerical process:\n",
    "\n",
    "1. Select a bounding box in the phase-plane\n",
    "2. Select an initial point $\\underline{x}_0$ and calculate the trajectory by solving:\n",
    "    \n",
    "    $\\underline{\\dot{x}} = \\underline{f}(\\underline{x}), \\quad \\underline{x}(0) = \\underline{x}_0$ forward and backward in time. \n",
    "    \n",
    "3. Repeat the process interactively"
   ]
  },
  {
   "cell_type": "markdown",
   "metadata": {},
   "source": [
    "### !!!!! TODO: Insert Matlab Example !!!!!"
   ]
  },
  {
   "cell_type": "markdown",
   "metadata": {},
   "source": [
    "### !!!!! TODO: Insert Python Example !!!!!"
   ]
  },
  {
   "cell_type": "markdown",
   "metadata": {},
   "source": [
    "# Qualitative Behavior of Linear Systems\n",
    "\n",
    "Consider a 2x2 LS as follows:\n",
    "\n",
    "$\\underline{\\dot{x}} = A \\underline{x}, \\quad \\underline{x} \\in \\mathbb{R}^2, \\quad A \\in N(2 \\times 2) \\rightarrow$ Real 2x2 matrices.  \n",
    "\n",
    "$A$ can be placed in either Jordan or Diagnoal form.  The generalized **real** Jordan form can be found as follows:\n",
    "\n",
    "$\\underline{x}(t) = M \\underline{z}(t) \\Rightarrow M\\underline{\\dot{z}}(t) = AM \\underline{z}(t) \\rightarrow \\underline{\\dot{z}} M^{-1}AM \\underline{z}(t)$\n",
    "\n",
    "or \n",
    "\n",
    "$ \\begin{cases}\n",
    "    \\underline{\\dot{z}} = \\underline{\\underline{J}} \\underline{z} \\\\\n",
    "    \\underline{z}(0) = \\underline{z}_0\n",
    "\\end{cases} \\Rightarrow$  This is notionally solved as:\n",
    "\n",
    "$\\underline{z}(t) = e^{Jt}\\, \\underline{z}_0$\n",
    "\n",
    "Thus the overall solution is $\\underline{x}(t) = M\\, e^{Jt}\\, M^{-1} \\underline{x}_0$\n",
    "\n",
    "* $\\underline{\\underline{J}}$ can have the following real form:\n",
    "\n",
    "$\\underline{\\underline{J}} = \n",
    "\\begin{bmatrix} \n",
    "    \\lambda_1 & 0 \\\\\n",
    "    0 & \\lambda_2\n",
    "\\end{bmatrix} or \n",
    "\\begin{bmatrix}\n",
    "    \\lambda & 0 \\\\\n",
    "    0 & \\lambda\n",
    "\\end{bmatrix} or\n",
    "\\begin{bmatrix}\n",
    "    \\lambda & 1 \\\\\n",
    "    0 & \\lambda\n",
    "\\end{bmatrix} or \n",
    "\\begin{bmatrix}\n",
    "    \\alpha & -\\beta \\\\\n",
    "    \\beta & \\alpha\n",
    "\\end{bmatrix}$"
   ]
  },
  {
   "cell_type": "markdown",
   "metadata": {},
   "source": [
    "## Case 1: Both $\\lambda_1$, $\\lambda_2$ are real and $\\lambda_1 \\neq 0$, $\\lambda_2 \\neq 0$:\n",
    "\n",
    "Consider the e-vectors $\\underline{v}_1$ associated to $\\lambda_1$ and $\\underline{v}_2$ associated with $\\lambda_2$.  The matrix $\\underline{\\underline{M}}$ became:\n",
    "\n",
    "$M = [\\underline{v}_1 | \\underline{v}_2] \\rightarrow$ change of basis and you have:\n",
    "\n",
    "$\\underline{\\dot{z}} = \\underline{\\underline{J}} \\underline{z} \\Rightarrow\n",
    "\\begin{cases}\n",
    "    \\dot{z}_1 = \\lambda_1 z_1 \\\\\n",
    "    \\dot{z}_2 = \\lambda_2 z_2\n",
    "\\end{cases} \\Rightarrow$  the system is **decoupled**.  \n",
    "\n",
    "Solution:\n",
    "\n",
    "$\\displaystyle\\begin{cases} \n",
    "    z_1(t) = z_{10} e^{\\lambda_1 t} \\\\\n",
    "    z_2(t) = z_{20} e^{\\lambda_2 t}\n",
    "\\end{cases} \\Rightarrow$  If you eliminate $t$ from the equations:\n",
    "\n",
    "$\\displaystyle z_2 = c z_1^{\\lambda_2 / \\lambda_1} \\quad\\text{where, } c = \\frac{z_{20}}{(z_{10})^{\\lambda_2/\\lambda_1}}$\n",
    "\n",
    "The shape of the phase plane depends on the sign of $\\lambda_1$ and $\\lambda_2$.  "
   ]
  },
  {
   "cell_type": "markdown",
   "metadata": {},
   "source": [
    "### $\\lambda_2 < \\lambda_1 < 0$:\n",
    "\n",
    "$\\begin{cases}\n",
    "    z_1(t) \\rightarrow 0 \\\\\n",
    "    z_2(t) \\rightarrow 0\n",
    "\\end{cases} \\text{ as } t \\rightarrow \\infty$\n",
    "\n",
    "However, $e^{\\lambda_2 t} \\rightarrow 0$ faster than $e^{\\lambda_1 t}$.  $\\lambda_2$ is the **fast** e-value ($\\underline{v}_2$ is the fast e-vector).  $\\lambda_2$ is the **slow** e-value ($\\underline{v}_1$ is the slow e-vector).  This is a case of a **stable mode**:"
   ]
  },
  {
   "cell_type": "markdown",
   "metadata": {},
   "source": [
    "### !!!!!! TODO: Insert Graphic !!!!!"
   ]
  },
  {
   "cell_type": "markdown",
   "metadata": {},
   "source": [
    "Convergence rate fastest along $\\underline{v}_2$"
   ]
  },
  {
   "cell_type": "markdown",
   "metadata": {},
   "source": [
    "### $\\lambda_2 > \\lambda_1 > 0$:\n",
    "\n",
    "We have an **unstable** mode.  \n",
    "\n",
    "$\\begin{cases}\n",
    "    z_1 \\rightarrow \\infty \\\\\n",
    "    z_2 \\rightarrow \\infty\n",
    "\\end{cases} \\text{ as } t \\rightarrow \\infty \\Rightarrow$  need to reverse the arrows:"
   ]
  },
  {
   "cell_type": "markdown",
   "metadata": {},
   "source": [
    "### !!!!! TODO: Insert Graphic !!!!!"
   ]
  },
  {
   "cell_type": "markdown",
   "metadata": {},
   "source": [
    "### $\\lambda_2 < 0 < \\lambda_1$ or ($\\lambda_2 < 0$, $\\lambda_1 > 0$):\n",
    "\n",
    "We have here that:\n",
    "\n",
    "$\\begin{cases}\n",
    "    z_1 \\infty e^{\\lambda_1 t} \\rightarrow \\infty \\\\\n",
    "    z_2 \\infty e^{\\lambda_2 t} \\rightarrow 0\n",
    "\\end{cases}\n",
    "\\text{ as } t \\rightarrow \\infty\n",
    "\\begin{cases}\n",
    "    \\lambda_2 \\text{ is the }\\underline{\\text{stable}} \\text{ e-value} \\\\\n",
    "    \\underline{v}_2 \\text{ is the }\\underline{\\text{stable}} \\text{ e-vector} \\\\\n",
    "    \\lambda_1 \\text{ is the }\\underline{\\text{unstable}} \\text{ e-value} \\\\\n",
    "    \\underline{v}_1 \\text{ is the }\\underline{\\text{unstable}} \\text{ e-vector}\n",
    "\\end{cases}$\n",
    "\n",
    "Equation of the system in the $z$-plane is:\n",
    "\n",
    "$z_2 = c_1\\, z_1^{\\lambda_2/\\lambda_1}, \\quad \\lambda_1/\\lambda_2 < 0$\n",
    "\n",
    "The point is called $\\underline{\\text{saddle}}$.  Phase portrait:"
   ]
  },
  {
   "cell_type": "markdown",
   "metadata": {},
   "source": [
    "### !!!!! TODO: Insert Graphic !!!!!"
   ]
  },
  {
   "cell_type": "markdown",
   "metadata": {
    "collapsed": true
   },
   "source": [
    "## Case 2: Complex e-values: $\\lambda_{1,2} = \\alpha \\pm j\\beta$\n",
    "\n",
    "$\\begin{cases}\n",
    "    \\dot{z}_1 = \\alpha z_1 - \\beta z_2 \\\\\n",
    "    \\dot{z}_2 = \\alpha z_1 + \\beta z_2\n",
    "\\end{cases}$\n",
    "\n",
    "The system in $z$ coordinate is **coupled**.  Change of coordinates:\n",
    "\n",
    "$\\begin{cases}\n",
    "    z_1 = r \\cos \\theta \\\\\n",
    "    z_2 = r \\sin \\theta\n",
    "\\end{cases}$"
   ]
  },
  {
   "cell_type": "markdown",
   "metadata": {},
   "source": [
    "### !!!!! TODO: Insert Graphic !!!!!"
   ]
  },
  {
   "cell_type": "markdown",
   "metadata": {},
   "source": [
    "$\\displaystyle\\Rightarrow \\begin{cases}\n",
    "    \\dot{r} \\cos \\theta - r \\dot{\\theta} \\sin \\theta = \\alpha r \\cos \\theta - \\beta r \\sin \\theta \\\\\n",
    "    \\dot{r} \\sin \\theta + r \\dot{\\theta} \\cos \\theta = \\beta r \\cos \\theta + \\alpha r \\sin \\theta\n",
    "\\end{cases}$\n",
    "\n",
    "Multiply by $\\cos \\theta (\\sin \\theta)$ sum and substract:\n",
    "\n",
    "$\\begin{cases}\n",
    "    \\dot{r}(\\cos^2 \\theta) + \\dot{r} (\\sin^2 \\theta) = \\alpha r (\\cos^2 \\theta + \\sin^2 \\theta) \\\\\n",
    "    - r \\dot{\\theta} ( \\cos^2 \\theta) - r \\dot{\\theta} (\\sin^2 \\theta) = - \\beta r (\\cos^2 \\theta) - \\beta r (\\sin^2 \\theta)\n",
    "\\end{cases}$\n",
    "\n",
    "$\\displaystyle\\begin{cases}\n",
    "    \\dot{r} = \\alpha r \\\\\n",
    "    \\dot{\\theta} = \\beta\n",
    "\\end{cases}\n",
    "\\Rightarrow \\underline{\\text{decoupled}} \\Rightarrow \n",
    "\\begin{cases}\n",
    "    r(t) = r_0 e^{\\alpha t} \\\\\n",
    "    \\theta(t) = \\theta_0 + \\beta t\n",
    "\\end{cases}$"
   ]
  },
  {
   "cell_type": "markdown",
   "metadata": {},
   "source": [
    "Solution depends on $\\alpha$ - value:\n",
    "\n",
    "1. if $\\alpha < 0 \\Rightarrow r(t) \\rightarrow 0 \\text{ as } t \\rightarrow \\infty$\n",
    "2. if $\\alpha > 0 \\Rightarrow r(t) \\rightarrow \\infty \\text{ as } t \\rightarrow \\infty$\n",
    "3. if $\\alpha = 0 \\Rightarrow r(t) = r_0, \\forall t > 0$"
   ]
  },
  {
   "cell_type": "markdown",
   "metadata": {},
   "source": [
    "### Cases:\n",
    "\n",
    "#### 1 - Stable Focus:"
   ]
  },
  {
   "cell_type": "markdown",
   "metadata": {},
   "source": [
    "##### !!!!! TODO: Insert Graphic !!!!!"
   ]
  },
  {
   "cell_type": "markdown",
   "metadata": {},
   "source": [
    "#### 2 - Unstable Focus"
   ]
  },
  {
   "cell_type": "markdown",
   "metadata": {},
   "source": [
    "##### !!!!! TODO: Insert Graphic !!!!!"
   ]
  },
  {
   "cell_type": "markdown",
   "metadata": {},
   "source": [
    "#### 3 - Center"
   ]
  },
  {
   "cell_type": "markdown",
   "metadata": {},
   "source": [
    "##### !!!!! TODO: Insert Graphic !!!!!!"
   ]
  },
  {
   "cell_type": "markdown",
   "metadata": {},
   "source": [
    "# Qualitative Behavior Near Equillibrium Points\n",
    "\n",
    "Non-Linear Systems (Autonomous)\n",
    "\n",
    "$\\underline{\\dot{x}} = \\underline{f}(\\underline{x}) \\quad \\Rightarrow$ equilibria $\\underline{x}^*$ such that $\\underline{f}(\\underline{x}^*) = \\underline{0}$\n",
    "\n",
    "Near $\\underline{x}^*$ (in a neighbor), $\\dot{\\underline{x}} = \\underline{f}(\\underline{x})$ may take one of the patterns seen for linear systems:\n",
    "\n",
    "* Stable/Unstable Nodes\n",
    "* Stable/Unstable Focus\n",
    "* Saddle Point\n",
    "* Center\n",
    "\n",
    "**Question:** Can we determine the type of equillibrium point via $\\underline{\\text{linearization}}$?\n",
    "\n",
    "**Goal:** $\\dot{\\underline{x}} = \\underline{f}(\\underline{x}) \\Longleftrightarrow \\dot{\\underline{x}} \\approx A\\underline{x}$ where $\\displaystyle A = \\left . \\frac{\\partial \\underline{f}}{\\partial \\underline{x}} \\right |_{\\underline{x} = \\underline{x}^*}$"
   ]
  },
  {
   "cell_type": "markdown",
   "metadata": {},
   "source": [
    "## For a 2-D system we have:\n",
    "\n",
    "$\\begin{cases}\n",
    "    \\dot{x}_1 = f_1(x_1, x_2) \\\\\n",
    "    \\dot{x}_2 = f_2(x_1, x_2)\n",
    "\\end{cases}\n",
    "\\Rightarrow$ let $\\underline{x}^* = (x_1^*, x_2^*)$ be an equillibrium point (i.e. $\\underline{f}(\\underline{x}^*) = \\underline{0}$.  \n",
    "\n",
    "If $\\underline{f} = (f_1, f_2)$ is continous and differentiable we can expand in Taylor Series around $\\underline{x}^*$:\n",
    "\n",
    "$\\begin{cases}\n",
    "    \\dot{x}_1 = f_1(x_1^*, x_2^*) + a_{11} (x_1 - x_1^*) + a_{12} (x_2 - x_2^*) + H.O.T \\\\\n",
    "    \\dot{x}_2 = f_2(x_1^*, x_2^*) + a_{21} (x_1 - x_1^*) + a_{22} (x_2 - x_2^*) + H.O.T\n",
    "\\end{cases}$\n",
    "\n",
    "$\\displaystyle a_{ij} = \\left . \\frac{\\partial f_i}{\\partial x_j} \\right |_{x_1^*,\\, x_2^*}$\n",
    "\n",
    "But $\\underline{x}^* = [x_1^*, x_2^*] \\Rightarrow f_1 (x_1^*, x_2^*) = 0$ and $f_2(x_1^*, x_2^*) = 0$\n",
    "\n",
    "Set $\\partial x_1 = x_1 - x_1^*, \\, \\partial x_2 = x_2 - x_2^*$.  Then,\n",
    "\n",
    "$\\begin{cases}\n",
    "    \\partial\\dot{x}_1 = a_{11} \\partial x_1 + a_{12} \\partial x_2 + H.O.T. \\\\\n",
    "    \\partial\\dot{x}_2 = a_{21} \\partial x_1 + a_{22} \\partial x_2 + H.O.T. \\\\\n",
    "\\end{cases}$"
   ]
  },
  {
   "cell_type": "markdown",
   "metadata": {},
   "source": [
    "## Linearized System:\n",
    "\n",
    "$\\dot{\\underline{x}} = \\underline{f}(\\underline{x}) \\rightarrow \\partial \\dot{\\underline{x}} \\approx A \\partial \\underline{x}$\n",
    "\n",
    "Study the e-values of A to determine that nature of the equillibrium point for the original non-linear system. "
   ]
  },
  {
   "cell_type": "markdown",
   "metadata": {},
   "source": [
    "# Summary\n",
    "\n",
    "Generally the analysis of the motion near an equillibrium point for a non-linear system can be done by looking at the behavior of the linearized system.  \n",
    "\n",
    "## Steps:\n",
    "\n",
    "1. Find the equillibrium points for $\\dot{\\underline{x}} = \\underline{f}(\\underline{x})$ (i.e. solve $\\underline{f}(\\underline{x}) = \\underline{0}$). \n",
    "2. For each equillibrium point, linearize the system and find the qualitative behavior of the system near the equillibrium.  \n",
    "3. Sketch the behavior on the phase plane near the equillibrium points.\n",
    "4. Connect the trajectories to have an idea of the global behavior.\n"
   ]
  },
  {
   "cell_type": "code",
   "execution_count": null,
   "metadata": {
    "collapsed": true
   },
   "outputs": [],
   "source": []
  }
 ],
 "metadata": {
  "kernelspec": {
   "display_name": "Python 3",
   "language": "python",
   "name": "python3"
  },
  "language_info": {
   "codemirror_mode": {
    "name": "ipython",
    "version": 3
   },
   "file_extension": ".py",
   "mimetype": "text/x-python",
   "name": "python",
   "nbconvert_exporter": "python",
   "pygments_lexer": "ipython3",
   "version": "3.5.1"
  }
 },
 "nbformat": 4,
 "nbformat_minor": 0
}
