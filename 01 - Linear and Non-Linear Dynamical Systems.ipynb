{
 "cells": [
  {
   "cell_type": "markdown",
   "metadata": {},
   "source": [
    "# General Dynamical Models\n",
    "\n",
    "Consider a dynamical model in the most general form:\n",
    "\n",
    "$ \\begin{matrix}\n",
    "    \\dot{x}_1 & = & f_1(t_1 x_1, \\dots, x_n; u_1, \\dots, u_p) \\\\\n",
    "    \\vdots & & \\\\\n",
    "    \\dot{x}_n & = & f_n(t_1 x_1, \\dots, x_n; u_1, \\dots, u_p) \\\\\n",
    "\\end{matrix} \\quad \\Rightarrow \\quad\n",
    "\\underline{\\dot{x}} = \\underline{f}(t, \\underline{x}; \\underline{u}) \\quad \\text{ where } \\, \\underline{x} \\in \\mathbb{R}^n, \\, \\underline{u} \\in \\mathbb{R}^p\n",
    "$\n",
    "\n",
    "Here, the system solution $\\underline{x}(t)$ (state) is represented by a set of $n$-first order non-linear equations.  $\\underline{x}(t)$ is the state of the system and $\\underline{u}(t)$ is the input (control & disturbances) of the system.  "
   ]
  },
  {
   "cell_type": "markdown",
   "metadata": {},
   "source": [
    "Sometimes the state of the system cannot be measured.  The following output equation is therefore considered:\n",
    "\n",
    "$\n",
    "\\begin{cases}\n",
    "    \\underline{\\dot{x}} = \\underline{f}(t, \\underline{x}, \\underline{u}) \\\\\n",
    "    \\underline{y} = \\underline{h}(t, \\underline{x}, \\underline{u}) \\\\\n",
    "\\end{cases}\n",
    "\\quad \\text{ where the output is } \\underline{y} \\in \\mathbb{R}^p\n",
    "$"
   ]
  },
  {
   "cell_type": "markdown",
   "metadata": {},
   "source": [
    "From the general form, the following special cases can be derived:\n",
    "\n",
    "1. Linear Systems (Time Variant)\n",
    "    \n",
    "    $\\begin{matrix} \n",
    "        \\begin{split} \n",
    "            \\underline{\\dot{x}} = A(t)\\underline{x} + B(t)\\underline{u} & where & A(t) \\in \\mathbb{M}(n \\times m) \\\\\n",
    "            \\underline{\\dot{y}} = C(t)\\underline{x} = D(t) \\underline{v} & & B(t) = \\mathbb{M}(n \\times p)\n",
    "        \\end{split} \n",
    "        &\n",
    "        where\n",
    "        &\n",
    "        \\begin{split}\n",
    "            A(t) \\in M(n \\times m) \\\\\n",
    "            B(t) \\in M(n \\times p) \\\\\n",
    "            C(t) = M(q \\times n) \\\\\n",
    "            D(t) = M(q \\times p)\n",
    "        \\end{split}\n",
    "    \\end{matrix}\n",
    "    $\n",
    "    \n",
    "2. Unforced State Equations\n",
    "\n",
    "    $\\begin{cases}\n",
    "        \\underline{\\dot{x}} = \\underline{f}(t, \\underline{x}) \\\\\n",
    "        \\underline{y} = \\underline{h}(t, \\underline{x})\\\\\n",
    "    \\end{cases} \\rightarrow $ generally resulting from $\\underline{u} = \\phi(t, \\underline{x})$ (for example from feedback)\n",
    "    \n",
    "    "
   ]
  },
  {
   "cell_type": "code",
   "execution_count": null,
   "metadata": {
    "collapsed": true
   },
   "outputs": [],
   "source": []
  }
 ],
 "metadata": {
  "kernelspec": {
   "display_name": "Python 3",
   "language": "python",
   "name": "python3"
  },
  "language_info": {
   "codemirror_mode": {
    "name": "ipython",
    "version": 3
   },
   "file_extension": ".py",
   "mimetype": "text/x-python",
   "name": "python",
   "nbconvert_exporter": "python",
   "pygments_lexer": "ipython3",
   "version": "3.5.1"
  }
 },
 "nbformat": 4,
 "nbformat_minor": 0
}
