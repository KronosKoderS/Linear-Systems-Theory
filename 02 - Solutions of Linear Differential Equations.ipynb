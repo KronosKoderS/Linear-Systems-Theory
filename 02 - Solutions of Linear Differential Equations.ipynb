{
 "cells": [
  {
   "cell_type": "markdown",
   "metadata": {},
   "source": [
    "# Preliminaries\n",
    "\n",
    "## Norm of a Matrix $A(n \\times m)$\n",
    "\n",
    "$\\|A\\| = \\max_{\\|\\underline{x}\\|=1}\\, \\|A\\underline{x}\\| = \\sqrt{\\lambda_\\max(A^TA)}$\n",
    "\n",
    "### Properties\n",
    "\n",
    "$\\|A\\underline{x}\\| \\leq \\|A\\|\\|\\underline{x}\\|$\n",
    "$\\|AB\\| \\leq \\|A\\|\\|B\\|$\n",
    "$\\|A + B\\| \\leq \\|A\\| + \\|B\\|$\n",
    "\n",
    "## Additional Facts About Matrices\n",
    "* $A(n \\times m)$ is a non-singular if and only if $\\det(A) \\neq 0$\n",
    "* Let $A$, $B$, $C$ be square $(n \\times n)$.  If $\\det(C) \\neq 0 \\Rightarrow \\det(C) = \\det(A)\\, \\det(B)$, where $A \\neq 0,\\, \\det(B) \\neq 0$ where $C = AB$\n",
    "\n",
    "## Convergence for a Series of Functions\n",
    "\n",
    "Consider the following series:\n",
    "    \n",
    "$\\displaystyle \\sum_{j=0}^{\\infty} f_j(t)$ where $f_j(t)$ is defined in $t \\in [t_0, t_1]$\n",
    "\n",
    "The infinite series of functions is convergent in $[t_0, t_1]$ iff:\n",
    "\n",
    "* $\\|f_j(t)\\| \\leq \\alpha_j$ for all $t \\in [t_0, t_1]$ and $\\forall j$\n",
    "* The series $\\sum_{j=1}^{\\infty} \\alpha_j < \\infty$ is convergent"
   ]
  },
  {
   "cell_type": "markdown",
   "metadata": {},
   "source": [
    "# Solution of Autonomous Systems of Differential Equations (State Equation for LTI Systems)\n",
    "\n",
    "We are focusing on the state equation representing the dynamics of autonomous systems (LTI)\n",
    "\n",
    "$\\dot{\\underline{x}} = A \\underline{x} + B \\underline{u}, \\quad A(n\\times n), \\, B(n \\times m)$"
   ]
  },
  {
   "cell_type": "markdown",
   "metadata": {},
   "source": [
    "## Solution of $\\dot{\\underline{x}} = A \\underline{x}, \\, (\\underline{u} = 0)$\n",
    "\n",
    "IV Problem (Cauchy Problem)\n",
    "\n",
    "$\\begin{cases}\n",
    "    \\dot{\\underline{x}} = A \\underline{x} \\\\\n",
    "    \\underline{x}(0) = \\underline{x}_0 \\rightarrow IC\n",
    "\\end{cases}$\n",
    "\n",
    "Formally we can interpret the equation directly:\n",
    "\n",
    "$\\displaystyle \\underline{x}(t) = \\underline{x}_0 + \\int_0^t A\\underline{x}(\\tau) \\partial \\tau = \\underline{x}_0 + A \\int_0^t \\underline{x}(\\tau) \\partial \\tau$\n",
    "\n",
    "Formally, $\\underline{x}(t) = \\underline{x}_0 + A \\int_0^t \\underline{x}(\\tau)\\partial\\tau$ is an integral equation. "
   ]
  },
  {
   "cell_type": "markdown",
   "metadata": {},
   "source": [
    "### Formal (theoretical) approach: Successive Approximations\n",
    "\n",
    "Start from $\\underline{x}_0$ and compute $\\underline{x}_1(t)$ (approximation):\n",
    "\n",
    "$\\displaystyle \\underline{x}_1(t) = \\underline{x}_0 + A \\int_0^t \\underline{x}_0(\\tau) \\partial\\tau + A\\underline{x}_0(t)$\n",
    "\n",
    "then move forward\n",
    "\n",
    "$\\displaystyle \\underline{x}_2(t) = \\underline{x}_0 + A \\int_0^t \\underline{x}_1(\\tau)\\partial\\tau = \\underline{x}_0 + t A \\underline{x}_0 + \\frac{t^2}{2} A^2 \\underline{x}_0$\n",
    "\n",
    "$\\displaystyle \\underline{x}_3(t) = \\underline{x}_0 + A \\int_0^t \\underline{x}_2(\\tau)\\partial\\tau = \\underline{x}_0 + t A \\underline{x}_0 + \\frac{t^2}{2} A^2 \\underline{x}_0 + \\frac{t^3}{6} A^3 \\underline{x}_0$\n",
    "\n",
    "Eventually we get the following:\n",
    "\n",
    "$\\displaystyle \\underline{x}_k(t) = \\sum_{j=0}^k \\frac{t^j}{j!}A^j\\underline{x}_0, \\quad \\text{where } A^0 = I \\text{ (identity)}$"
   ]
  },
  {
   "cell_type": "markdown",
   "metadata": {},
   "source": [
    "#### Question: Does the Series Converge? $(k \\rightarrow \\infty)$\n",
    "\n",
    "Let's apply the theorem of convergence $\\rightarrow$ Look at the $\\underline{\\text{bound}}$ for the coefficient of the series.  \n",
    "\n",
    "$\\displaystyle\\left\\|\\frac{t^j}{j!} A^j \\underline{x}_0 \\right \\| \\leq \\frac{|t|^j}{j!} \\|A^j\\| \\|\\underline{x}_0\\| \\leq \\frac{\\big(T\\,\\|A\\|\\big)^j}{j!} \\|\\underline{x}_0\\| \\text{ if } t\\in[-T,T] \\leftarrow |t|^j \\leq T^j$\n",
    "\n",
    "Call $\\alpha_j = \\frac{\\big(T\\|A\\|\\big)^j}{j!}\\|\\underline{x}_0\\|$ and look at $\\sum_{j=1}^{\\infty} \\alpha_j$\n",
    "\n",
    "$\\displaystyle \\sum_{j=0}^{\\infty} \\alpha_j = \\left(\\sum_{j=0}^{\\infty} \\frac{\\big(T\\|A\\|\\big)^j}{j!}\\right) \\|\\underline{x}_0\\| = e^{T\\|A\\|}\\|\\underline{x}_0\\|$\n",
    "\n",
    "*Remember:*  Taylor series for the exponential is $e^x = \\sum_{j=0}{\\infty} \\frac{x^j}{j!}$ thus we have that the series $\\sum_{j=0}^{\\infty} \\frac{t^j}{j!} A^j \\underline{x_0}$ is **convergent**.  "
   ]
  },
  {
   "cell_type": "markdown",
   "metadata": {},
   "source": [
    "#### Question: Is $\\sum_{j=0}^{\\infty} \\frac{t^j}{j!} A^j \\underline{x}_0$ the solution of $\\begin{cases} \\dot{\\underline{x}} = A \\underline{x} \\\\ \\underline{x}(0) = \\underline{x}_0 \\end{cases}$ ?\n",
    "\n",
    "**Definition:** For a matrix $M$, the exponential matrix $e^M = \\exp(M)$ is defined via the convergent infinite series:\n",
    "\n",
    "$$e^M = \\sum_{j=0}^{\\infty} \\frac{1}{j!}M^j$$\n",
    "\n",
    "**General Fact:** For a given function $f(x)$ and a matrix $A(n \\times x)$, $f(A)$ is defined via the infinite series:\n",
    "\n",
    "$\\displaystyle f(x) = \\sum_{j=0}^\\infty \\frac{f^j(0)}{j!}x^j \\Rightarrow \\sum_{j=0}^\\infty \\frac{f^j(0)}{j!} A^j$\n",
    "\n",
    "Thus:\n",
    "\n",
    "$\\displaystyle \\begin{cases}\n",
    "    \\dot{\\underline{x}} = A \\underline{x} \\\\\n",
    "    \\underline{x}(0) = \\underline{x}_0\n",
    "\\end{cases} \\Rightarrow\n",
    "\\underline{x}(t) = e^{At}\\underline{x} \\text{ where, } e^{At} = \\sum_{j=0}^\\infty \\frac{t^j}{j!} A^j$\n",
    "\n",
    "Properties of $e^{At}$:\n",
    "\n",
    "* $e^0 = I$\n",
    "* $\\frac{\\partial}{\\partial t} e^{At} = A e ^{At}$"
   ]
  },
  {
   "cell_type": "markdown",
   "metadata": {
    "collapsed": true
   },
   "source": [
    "## Solution of $\\begin{cases}\\dot{\\underline{x}} = A\\underline{x} + B\\underline{u} \\\\ \\underline{x}(0) = \\underline{x}_0\\end{cases}$ :\n",
    "\n",
    "**Claim:** $\\displaystyle \\underline{x}(t) = e^{At}\\underline{x}_0 + \\int_0^t d^{A(t - \\tau}B \\underline{u}(\\tau) \\partial \\tau$\n",
    "\n",
    "Let's see how we prove this is the solution:\n",
    "\n",
    "1. If satisfies $IC$:\n",
    "\n",
    "    $\\displaystyle\\underline{x}(0) = e^{A0}\\underline{x}_0 + \\int_0^0 e^{A(t-\\tau)} B\\underline{u}(\\tau)\\partial\\tau = \\underline{x}_0$\n",
    "    \n",
    "2. Take the derivative:\n",
    "\n",
    "    $\\displaystyle\\dot{\\underline{x}} = \\frac{\\partial}{\\partial t} \\big(e^{At}\\underline{x}_0 + \\int_0^t e^{A(t-\\tau)}B\\underline{u}(\\tau) \\partial\\tau\\big) = Ae^{At}\\underline{x}_0 + \\frac{\\partial}{\\partial t} \\big(e^{A(t-\\tau)}B\\underline{u}(\\tau)\\partial\\tau\\big)$\n",
    "    \n",
    "    Leibitz (?????) formula:  $\\displaystyle\\frac{\\partial}{\\partial t} \\int_{\\alpha(t)}^{\\beta(t)} f(t, \\tau)\\partial \\tau = f(t, \\tau) \\big |_\\beta \\beta'(t) - f(t, \\tau)\\big |_\\alpha \\alpha'(t) + \\int_\\alpha^\\beta \\frac{\\partial f}{\\partial t} \\partial \\tau$\n",
    "    \n",
    "    Apply:\n",
    "    \n",
    "    $\\displaystyle\\dot{\\underline{x}} = A e^{At}\\underline{x}_0 + e^A(t-\\tau)B\\underline{u}(\\tau) \\big|_{\\tau = t} + \\int_0^t A e^{A(t - \\tau)} B \\underline{u}(\\tau)\\partial\\tau = A \\big(\\underbrace{e^{At}\\underline{x}_0 + \\int_0^t e^{A(t-\\tau)} B\\underline{u}(\\tau)\\partial\\tau}_{\\underline{x}(t)}\\big) + B \\underline{u}(t)$\n",
    "    \n",
    "    $\\Rightarrow \\dot{\\underline{x}} = A\\underline{x} + B\\underline{u} \\Rightarrow$ it satisfies the **state equations.**"
   ]
  },
  {
   "cell_type": "markdown",
   "metadata": {},
   "source": [
    "## Example #1\n",
    "\n",
    "Find $e^{At}$ for $A = \\begin{bmatrix}0 && 1 \\\\ 0 && 0 \\end{bmatrix}$\n",
    "\n",
    "$\\displaystyle e^{At} = \\sum_{j=0}^\\infty \\frac{t^j}{j!}A^j \\Rightarrow A^2 = A \\cdot A = \\begin{bmatrix}0 && 1 \\\\ 0 && 0\\end{bmatrix}\\begin{bmatrix}0 && 1 \\\\ 0 && 0\\end{bmatrix} = \\begin{bmatrix}0 && 0 \\\\ 0 && 0\\end{bmatrix}$\n",
    "\n",
    "Thus $A^k = 0$ for $k \\geq 2$.\n",
    "\n",
    "$e^{At} = I + tA = \\begin{bmatrix}1 && t \\\\ 0 && 1\\end{bmatrix}$"
   ]
  },
  {
   "cell_type": "markdown",
   "metadata": {},
   "source": [
    "## Example #1\n",
    "\n",
    "Find $a^{At}$ for $A = \\begin{bmatrix}0 && 1 \\\\ -1 && 0 \\end{bmatrix}$\n",
    "\n",
    "\n",
    "$A^2 = \\begin{bmatrix}0 && 1 \\\\ -1 && 0\\end{bmatrix} \\begin{bmatrix}0 && 1 \\\\ -1 && 0\\end{bmatrix} = \\begin{bmatrix}-1 && 0 \\\\ 0 && -1\\end{bmatrix} = -I$\n",
    "\n",
    "$A^3 = A^2 A = -A \\Rightarrow A^4 = A^3A = (-A)(A) = -A^2 = I \\Rightarrow A^5 = A^4A = A$\n",
    "\n",
    "So we see a pattern here:\n",
    "\n",
    "$\\displaystyle A^k = \\begin{cases}\n",
    "    (-1)^{\\frac{k-1}{2}}A, && k = 1, 3, 5, \\dots \\, odd \\\\\n",
    "    (-1)^{\\frac{k}{2}}I,    && k = 0, 2, 4, \\dots \\, even\n",
    "\\end{cases}$\n",
    "\n",
    "The $e^At$ can be split into odd and even:\n",
    "\n",
    "$\\displaystyle e^{At} = \\sum_{j=0}^\\infty \\frac{t^j}{j!}A^j = \\big( \\underbrace{1 - \\frac{t^2}{2!} + \\frac{t^4}{4!} \\dots}_{\\cos t} \\big) I + \\big ( \\underbrace{t - \\frac{t^3}{3!} + \\frac{t^5}{5!} - \\dots}_{\\sin t} \\big) A$\n",
    "\n",
    "$e^{At} = \\cos(t)I + \\sin(t)A = \\begin{bmatrix}\\cos{t} && 0 \\\\ 0 && \\cos(t)\\end{bmatrix} + \\begin{bmatrix}0 && \\sin(t) \\\\ -sin(t) && 0\\end{bmatrix} = \\begin{bmatrix}\\cos(t) && \\sin(t) \\\\ -\\sin(t) && \\cos(t)\\end{bmatrix}$"
   ]
  },
  {
   "cell_type": "code",
   "execution_count": null,
   "metadata": {
    "collapsed": true
   },
   "outputs": [],
   "source": []
  },
  {
   "cell_type": "code",
   "execution_count": null,
   "metadata": {
    "collapsed": true
   },
   "outputs": [],
   "source": []
  }
 ],
 "metadata": {
  "kernelspec": {
   "display_name": "Python 3",
   "language": "python",
   "name": "python3"
  },
  "language_info": {
   "codemirror_mode": {
    "name": "ipython",
    "version": 3
   },
   "file_extension": ".py",
   "mimetype": "text/x-python",
   "name": "python",
   "nbconvert_exporter": "python",
   "pygments_lexer": "ipython3",
   "version": "3.5.1"
  }
 },
 "nbformat": 4,
 "nbformat_minor": 0
}
