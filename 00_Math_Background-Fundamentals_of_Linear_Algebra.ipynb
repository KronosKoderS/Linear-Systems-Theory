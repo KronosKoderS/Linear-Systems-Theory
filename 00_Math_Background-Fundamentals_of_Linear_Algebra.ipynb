{
 "cells": [
  {
   "cell_type": "markdown",
   "metadata": {
    "slideshow": {
     "slide_type": "skip"
    }
   },
   "source": [
    "# Outline:\n",
    "1. [Vector Spaces](#Vector-Spaces)\n",
    "2. [Linear Dependance & Independence](#Linear-dependence-&-independence)\n"
   ]
  },
  {
   "cell_type": "markdown",
   "metadata": {
    "slideshow": {
     "slide_type": "slide"
    }
   },
   "source": [
    "# Vector Spaces\n",
    "\n",
    "**Definition:** A non-empty space $E$ is called a $\\underline{\\text{Vector Space (vs)}}$ on a field $ \\mathbb{K}$ if between its elements ($\\underline{\\text{Vectors}}$), the following $\\underline{\\text{Compositional Laws}}$ are true:"
   ]
  },
  {
   "cell_type": "markdown",
   "metadata": {
    "slideshow": {
     "slide_type": "subslide"
    }
   },
   "source": [
    "## 1. (Inner) (+) → sum (+): $ E \\times E \\rightarrow E$\n",
    "\n",
    "$ (\\underline{u},\\underline{v}) \\rightarrow \\underline{w} = \\underline{u} + \\underline{v}$\n",
    "\n",
    "with the following properties:\n",
    "\n",
    "1. Commutative: \n",
    "        \n",
    "    $ \\underline{u} + \\underline{v} = \\underline{v} + \\underline{u}, \\quad \\forall \\underline{u}, \\underline{v} \\in E$\n",
    "    \n",
    "2. Associative: \n",
    "\n",
    "    $ \\underline{u} + \\underline{v} + \\underline{w} = \\underline{u} + (\\underline{v} + \\underline{w}), \\quad \\forall \\underline{u},\\underline{v},\\underline{w} \\in E$\n",
    "    \n",
    "3. Neutral Element $\\underline{0}$ s.t. \n",
    "\n",
    "    $\\underline{u} + \\underline{0} = \\underline{0} + \\underline{u} = \\underline{u}, \\quad \\forall \\underline{u} \\in E$ \n",
    "    \n",
    "4. Inverse Element $(-\\underline{u})$ s.t. \n",
    "\n",
    "    $\\underline{u} + -\\underline{u} = -\\underline{u} + \\underline{u} = \\underline{0}, \\quad \\forall \\underline{u} \\in E$\n",
    "    "
   ]
  },
  {
   "cell_type": "markdown",
   "metadata": {
    "slideshow": {
     "slide_type": "subslide"
    }
   },
   "source": [
    "## 2. (External on the field $\\mathbb{K}$): $\\mathbb{K} \\times E \\rightarrow E$\n",
    "\n",
    "$(\\lambda, \\underline{u}) \\rightarrow \\underline{w} = \\lambda\\underline{u}$\n",
    "\n",
    "with the following properties:\n",
    "\n",
    "5. Distributive w.r.t. the sum:\n",
    "\n",
    "    $\\lambda(\\underline{u} + \\underline{v}) = \\lambda\\underline{u} + \\lambda\\underline{v}, \\quad \\forall \\lambda \\in \\mathbb{K}, \\quad \\forall \\underline{u},\\underline{v} \\in E$\n",
    "    \n",
    "6. Distributive w.r.t. sum in $\\mathbb{K}$:\n",
    "\n",
    "    $(\\lambda + \\mu)\\underline{v} = \\lambda\\underline{v} + \\mu\\underline{v}$\n",
    "    \n",
    "7. Associative\n",
    "\n",
    "    $\\lambda (\\mu \\underline{v}) = (\\lambda \\mu) \\underline{v}, \\quad \\forall \\lambda,\\mu \\in \\mathbb{K}, \\quad \\forall \\underline{v} \\in E$\n",
    "    \n",
    "8. Netral element w.r.t. field $\\mathbb{K}$\n",
    "\n",
    "    $1 \\cdot \\underline{u} = \\underline{u} \\cdot 1 = \\underline{u}, \\quad \\forall \\underline{u} \\in E$\n",
    "    \n",
    "    \n",
    "    "
   ]
  },
  {
   "cell_type": "markdown",
   "metadata": {
    "collapsed": true,
    "slideshow": {
     "slide_type": "subslide"
    }
   },
   "source": [
    "**Note:** $E$ has an algebraic structure of \"Albelian Group\"\n",
    "\n",
    "**Note:** $\\mathbb{K}$ can be real $\\mathbb{R}$ or complex $\\mathbb{C}$"
   ]
  },
  {
   "cell_type": "markdown",
   "metadata": {
    "slideshow": {
     "slide_type": "subslide"
    }
   },
   "source": [
    "## Examples\n",
    "\n",
    "### A:\n",
    "\n",
    "---\n",
    "\n",
    "$\\mathbb{R}^n = \n",
    "\\begin{equation}\n",
    "\\underbrace{\n",
    "\\mathbb{R} \\times \\mathbb{R} \\times \\dots \\times \\mathbb{R}\n",
    "}_{n-times} \n",
    "\\end{equation}\n",
    "$\n",
    "is the set of all $n$-ple of real numbers.  $(x_1, \\dots, x_n) \\in \\mathbb{R}^n \\Rightarrow $ it is a Vector Space $\\rightarrow$ indeed:\n",
    "\n",
    "$(x_1, \\dots, x_n) + (y_1, \\dots, y_n) = (x_1 + y_1, \\dots, x_n + y_n)$ with $(0, \\dots, 0)$ as netral element and $(-x_1, \\dots, -x_m)$ as inverse element.\n",
    "\n",
    "---"
   ]
  },
  {
   "cell_type": "markdown",
   "metadata": {
    "slideshow": {
     "slide_type": "subslide"
    }
   },
   "source": [
    "### B:\n",
    "\n",
    "---\n",
    "\n",
    "Consider the set $C(a, b)$ of all functions that are continuous & real in $(a, b) \\in \\mathbb{R}$.  Such set is a _vector space_\n",
    "\n",
    "$C(a, b) \\times C(a, b) \\rightarrow C(a, b)$\n",
    "\n",
    "$\\big(f(x), g(x)\\big) \\rightarrow h(x) = f(x) + g(x)$\n",
    "\n",
    "with $0(x) = 0$ in $(a, b)$ is the neutral function and $-f(x)$ s.t. $f(x) + (-f(x)) = 0(x)$ is the inverse fun.\n",
    "\n",
    "---"
   ]
  },
  {
   "cell_type": "markdown",
   "metadata": {
    "slideshow": {
     "slide_type": "slide"
    }
   },
   "source": [
    "# Linear dependence & independence\n",
    "\n",
    "**Definition:** Let $\\lbrace \\underline{v}_1, \\dots, \\underline{v}_r \\rbrace$ be a set of r-vectors of $\\mathbb{E}$.  The vector $\\lambda_1\\underline{v}_1 + \\dots + \\lambda_r\\underline{v}_r$ is called the $\\underline{\\text{Linear Combination}}$ of the vectors on $\\mathbb{K}$.  \n",
    "\n",
    "\n",
    "\n"
   ]
  },
  {
   "cell_type": "markdown",
   "metadata": {
    "collapsed": true,
    "slideshow": {
     "slide_type": "subslide"
    }
   },
   "source": [
    "**Definition:** $r$ vectors of $\\mathbb{E} \\lbrace \\underline{v}_1, \\dots, \\underline{v}_r \\rbrace$ are said to be $\\underline{\\text{Linearly Dependent (LD)}}$ if $\\exists \\, \\lambda_1, \\dots, \\lambda_r$ in $\\mathbb{K}$ not **all** zero s.t.: $\\lambda_1 \\underline{v}_1 + \\dots + \\lambda_r \\underline{v}_r = \\underline{0}$\n",
    "\n",
    "**Definition:** If $\\lambda_1 = \\dotsb \\lambda_r = 0 \\Rightarrow \\lbrace \\underline{v}_1, \\dots, \\underline{v}_2 \\rbrace$ are $\\underline{\\text{Linearly Independent (LI)}}$."
   ]
  },
  {
   "cell_type": "markdown",
   "metadata": {
    "slideshow": {
     "slide_type": "subslide"
    }
   },
   "source": [
    "**Definition:** We call the $\\underline{\\text{Basis}}$ of a vector space $\\mathbb{E}$ to be any LI systems of vectors capable of generating the all space by linear combination:  $\\mathbb{B} = \\lbrace \\underline{e}_1, \\dots, \\underline{e}_n \\rbrace \\Rightarrow \\underline{v} = v_1\\underline{e}_1 + \\dots + v_n\\underline{e}_n, \\quad \\forall \\underline{v} \\in \\mathbb{E}$\n",
    "\n",
    "$v_1, \\dots v_n$ are the components of $\\underline{v}$ w.r.t. the basis $\\mathbb{B}$.  $n$ is the $\\underline{\\text{Dimension}}$ of the vector space $\\mathbb{E}$.  "
   ]
  },
  {
   "cell_type": "markdown",
   "metadata": {
    "slideshow": {
     "slide_type": "subslide"
    }
   },
   "source": [
    "***Theorem:*** Let $\\mathbb{E}_n$ be a $vs^1$ of dimension $r$.  The vectors $\\lbrace \\underline{v}_1, ..., \\underline{v}_r \\rbrace$ are LI if and only if the rank of the following matrix is $r$:\n",
    "\n",
    "$\n",
    "\\begin{vmatrix}\n",
    "v_1^1 & v_r^1 \\\\\n",
    "v_1^n & v_r^n \\\\\n",
    "\\end{vmatrix}\\rightarrow$ Matrix formed with the components of the vector $\\underline{v}_i\\,, i = 1, \\dots r$ with respect to any basis $\\mathbb{B} = \\lbrace \\underline{e}_1, \\dots, \\underline{e}_n \\rbrace$\n",
    "\n",
    "$\n",
    "\\underline{v}_i = \\displaystyle\\sum_{j=1}^n v_i^j \\thinspace \\underline{e}_j, \\quad i = 1, \\dots, r\n",
    "$\n"
   ]
  },
  {
   "cell_type": "markdown",
   "metadata": {
    "slideshow": {
     "slide_type": "slide"
    }
   },
   "source": [
    "# Change of Basis\n",
    "\n",
    "Consider $\\mathbb{E}_n$ to be a vector space and let $\\lbrace \\underline{e}_1, \\dotsb, \\underline{e_n}\\rbrace = B \\notin \\lbrace \\underline{e}_{1'}, \\dotsb, \\underline{e}_{n'} \\rbrace = {B'}$ be two basis.  By definition, every vector of ${B'}$ can be expressed as a linear combination of $B$, i.e.\n",
    "\n",
    "$\\displaystyle\\underline{e}_{i'} = \\sum_{r=1}^n A_i^r, \\underline{e}_r, \\quad i' = 1, \\dots, n$ \n",
    "\n",
    "Inversely we have:\n",
    "\n",
    "$\\displaystyle\\underline{e}_s = \\sum_{s=1}^n A_s^{i'} \\underline{e}_{i'}, \\quad s = 1, \\dots, n$ (From ${B'} \\rightarrow B$)\n",
    "\n",
    "Substituting we have:\n",
    "\n",
    "$\\displaystyle\\underline{e}_s = \\sum_{s=1}^n \\sum_{r=1}^n A_{i'}^r A_s^{i'} \\underline{e}_r \\Rightarrow$ but since $B$ & ${B'}$ are LI we have:\n",
    "\n",
    "$\\displaystyle \\sum_{s=1}^n \\sum_{r=1}^r A_{i'}^r A_s^{i'} = \\delta_s^r = \n",
    "\\begin{cases}\n",
    "    1 & \\quad \\text{if } r = s\\\\\n",
    "    0 & \\quad \\text{if } r \\neq s\n",
    "\\end{cases}\n",
    "$"
   ]
  },
  {
   "cell_type": "markdown",
   "metadata": {
    "collapsed": true,
    "slideshow": {
     "slide_type": "subslide"
    }
   },
   "source": [
    "The matrices $\\lbrace A_s^{i'} \\rbrace$ and $\\lbrace A_{i'}^r \\rbrace$ are inverse to each other $\\rightarrow$ we derive the following laws for change of basis:\n",
    "\n",
    "$\\lbrace B' = B\\underline{\\underline{A}} \\Leftrightarrow B = B'\\underline{\\underline{A}}^{-1} \\rbrace \\text{& } \\underline{\\underline{A}}\\underline{\\underline{A}}^{-1} = \\underline{\\underline{I}}$\n",
    "\n",
    "It is easy to show that the components fo a vector $v=E_n$ change in a <u>Controvariant</u> fashion with changing the basis, i.e.:\n",
    "\n",
    "$\\underline{u} = v' \\underline{e}_1 + \\dots + v^n \\underline{e}_n = \\displaystyle\\sum_{i=1}^n v^i \\underline{e}_i = \\sum_{i'=1}^n v^{i'} \\underline{e}_{i'}, \\quad \\text{and } \\quad \\lbrace V' = A^{-1}V \\Leftrightarrow V = AV' \\rbrace \\Rightarrow$ Controvariant!"
   ]
  },
  {
   "cell_type": "markdown",
   "metadata": {
    "slideshow": {
     "slide_type": "slide"
    }
   },
   "source": [
    "# Linear Transformation between Vector Spaces\n",
    "\n",
    "**Definition:** Let $E$ and $F$ be two Vector Spaces on $\\mathbb{K}$.  A $\\underline{\\text{Linear Transformation}}$ of $E$ in $F: L: E \\rightarrow F$ is a map such that $\\forall \\underline{x}, \\underline{y} \\in E, \\text{& } \\forall \\lambda \\in \\mathbb{K}$\n",
    "\n",
    "1. $L(\\underline{x} + \\underline{y}) = L(\\underline{x}) + L(\\underline{y})$\n",
    "2. $L(\\lambda\\underline{x}) = \\lambda L(\\underline{x})$\n",
    "\n",
    "or equivalently, \n",
    "\n",
    "$L(\\lambda_1 \\underline{x} + \\lambda_2 \\underline{y} = \\lambda_1 L(\\underline{x} + \\lambda_2 L(\\underline{y})$"
   ]
  },
  {
   "cell_type": "markdown",
   "metadata": {
    "slideshow": {
     "slide_type": "subslide"
    }
   },
   "source": [
    "## Examples:\n",
    "\n",
    "### A:\n",
    "---\n",
    "$L: \n",
    "\\begin{matrix}\n",
    "    C^1(0, 1) \\rightarrow C^0(0, 1) \\\\\n",
    "    f(x) \\rightarrow \\frac{\\mathrm d}{\\mathrm d x}f(x)\n",
    "\\end{matrix}\n",
    "$ is linear\n",
    "\n",
    "$\\frac{\\mathrm d}{\\mathrm d x} \\big(\\lambda_1 f(x) + \\lambda_2 g(x) \\big) = \\lambda_1 f'(x) + \\lambda_2 g'(x)$\n",
    "\n",
    "---"
   ]
  },
  {
   "cell_type": "markdown",
   "metadata": {
    "collapsed": true,
    "slideshow": {
     "slide_type": "subslide"
    }
   },
   "source": [
    "### B:\n",
    "\n",
    "---\n",
    "\n",
    "$L: \\begin{matrix}\n",
    "    C^0(0,1) \\rightarrow C^0(0,1) \\\\\n",
    "    f(x) \\rightarrow \\displaystyle\\int_0^x f(x')dx'\n",
    "\\end{matrix}\n",
    "$ is linear.\n",
    "\n",
    "$\\displaystyle \\int_0^x \\big(\\lambda_1 f(x') + \\lambda_2 g(x')\\big) dx' = \\lambda_1 \\int_0^x f(x')dx' + \\lambda_2 \\int_0^x g(x') dx'$"
   ]
  },
  {
   "cell_type": "markdown",
   "metadata": {
    "slideshow": {
     "slide_type": "slide"
    }
   },
   "source": [
    "# Nullspace and Range of a Linear Transformation\n",
    "\n",
    "**Definition:**  Let $L: E_n \\rightarrow F_m$ be a linear map.  The $\\underline{\\text{nullspace}} \\text{ } N(L)$ (also called kernel) is the subspace of $E_n$ s.t. $N(L) = \\big\\lbrace \\underline{x} \\in E_n \\, | \\, L \\underline{x} = \\underline{0} \\big\\rbrace$"
   ]
  },
  {
   "cell_type": "markdown",
   "metadata": {
    "slideshow": {
     "slide_type": "subslide"
    }
   },
   "source": [
    "**Definition:** Let $L: E_n \\rightarrow F_m$ be a linear map.  The $\\underline{\\text{Raupe}}$ space of $L$, ($R(L)$) is the subspace of $F_m$ s.t.\n",
    "\n",
    "$R(L) = \\big\\lbrace \\underline{y} \\in F_m \\, | \\, L \\underline{x} = \\underline{y} \\big\\rbrace$\n",
    "\n",
    "The dimension of $R(L)$ is called $\\underline{\\text{rank}}$"
   ]
  },
  {
   "cell_type": "markdown",
   "metadata": {
    "slideshow": {
     "slide_type": "subslide"
    }
   },
   "source": [
    "***Theorem:***  If Let $L: E_n \\rightarrow F_m$ and $dim \\, E_n = n, \\, dim \\, F_m = m$ then, $dim \\, E_n = dim \\, N(L) + dim \\, R(L)$"
   ]
  },
  {
   "cell_type": "markdown",
   "metadata": {
    "slideshow": {
     "slide_type": "subslide"
    }
   },
   "source": [
    "***Theorem:*** Two spaces are isomorphic if they have the same dimension.  \n",
    "\n",
    "Isomorphism: Linear application \n",
    "$L:\n",
    "\\begin{matrix} \n",
    "    E \\rightarrow F \\\\\n",
    "    \\underline{x} \\rightarrow y = L \\underline{x}\n",
    "\\end{matrix}\n",
    "$ s.t.\n",
    "\n",
    "1. one-to-one:\n",
    "    \n",
    "    $L(\\underline{x}_1) \\neq L(\\underline{x}_2)$ if $\\underline{x}_1 \\neq \\underline{x}_2 \\quad \\forall \\underline{x}_1, \\underline{x}_2 \\in E_n$\n",
    "    \n",
    "2. Onto:\n",
    "\n",
    "    For any $\\underline{y} \\in F, \\exists\\, \\underline{x} \\in E$ s.t. $L(\\underline{x}) = \\underline{y}$\n",
    "    \n",
    "    Note that the \"onto\" implies that $L(\\underline{x})$ (Roupe) covers the all space $F$.  But then $dim \\, R(L) = dim\\, F = m = n \\Rightarrow dim\\, E_n = n = dim\\, N(L) + dim\\, R(L) \\Rightarrow dim\\, N(L) = 0$"
   ]
  },
  {
   "cell_type": "markdown",
   "metadata": {
    "slideshow": {
     "slide_type": "subslide"
    }
   },
   "source": [
    "# TODO: Add figures or python graphics"
   ]
  },
  {
   "cell_type": "markdown",
   "metadata": {
    "slideshow": {
     "slide_type": "slide"
    }
   },
   "source": [
    "# Linear Transformation and Matrices: Relationships\n",
    "\n",
    "Let $E_n$ and $F_m$ be two vector spaces on $\\mathbb{K}$"
   ]
  },
  {
   "cell_type": "markdown",
   "metadata": {
    "slideshow": {
     "slide_type": "subslide"
    }
   },
   "source": [
    "***Theorem:*** if $\\lbrace \\underline{e}_1, \\dots, \\underline{e}_n \\rbrace$ is a basis of $E_n$, the linear map $L: E_n \\rightarrow F_m$ is uniquiely determined by the $n$-transformed vectors of the bases $\\lbrace \\underline{f}, \\dots , \\underline{f}_m \\rbrace$.  The linear map $L$ is uniquely represented by a matrix $m \\times n$.  Conversely, any matrix $(m \\times n)$ represents a linear map $L: E_n \\rightarrow F_m$\n",
    "\n",
    "Set the following basis in $E_n \\lbrace \\underline{e}_1, \\dots, \\underline{e}_n \\rbrace$.  Any vector $\\underline{x}$ in $E_n$ can be written as: $\\displaystyle \\sum_{i=1}^n x_i \\underline{e}_i$.  The transformed under $L$ are the following: $L \\underline{x} = \\displaystyle \\sum_{i=1}^n x^i \\begin{equation}\\underbrace{L \\underline{e}_i}_{\\underline{\\mathcal{E}}_i}\\end{equation} = \\sum_{i=1}^n x^i \\underline{\\mathcal{E}}_i$"
   ]
  },
  {
   "cell_type": "markdown",
   "metadata": {
    "slideshow": {
     "slide_type": "subslide"
    }
   },
   "source": []
  }
 ],
 "metadata": {
  "celltoolbar": "Slideshow",
  "kernelspec": {
   "display_name": "Python 3",
   "language": "python",
   "name": "python3"
  },
  "language_info": {
   "codemirror_mode": {
    "name": "ipython",
    "version": 3
   },
   "file_extension": ".py",
   "mimetype": "text/x-python",
   "name": "python",
   "nbconvert_exporter": "python",
   "pygments_lexer": "ipython3",
   "version": "3.5.1"
  }
 },
 "nbformat": 4,
 "nbformat_minor": 0
}
