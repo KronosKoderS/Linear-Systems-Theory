{
 "cells": [
  {
   "cell_type": "code",
   "execution_count": 1,
   "metadata": {
    "collapsed": false,
    "scrolled": true
   },
   "outputs": [
    {
     "name": "stdout",
     "output_type": "stream",
     "text": [
      "Populating the interactive namespace from numpy and matplotlib\n",
      "IPython console for SymPy 1.0 (Python 3.5.1-64-bit) (ground types: python)\n",
      "\n",
      "These commands were executed:\n",
      ">>> from __future__ import division\n",
      ">>> from sympy import *\n",
      ">>> x, y, z, t = symbols('x y z t')\n",
      ">>> k, m, n = symbols('k m n', integer=True)\n",
      ">>> f, g, h = symbols('f g h', cls=Function)\n",
      ">>> init_printing()\n",
      "\n",
      "Documentation can be found at http://docs.sympy.org/1.0/\n"
     ]
    }
   ],
   "source": [
    "# Intialization for notebook use\n",
    "%pylab inline\n",
    "from sympy import *\n",
    "init_session()\n",
    "init_printing(use_latex=True)"
   ]
  },
  {
   "cell_type": "code",
   "execution_count": 38,
   "metadata": {
    "collapsed": true
   },
   "outputs": [],
   "source": [
    "x_1, x_2 = symbols('x_1 x_2') # indentify these as symbols\n",
    "λ = symbols('λ')"
   ]
  },
  {
   "cell_type": "markdown",
   "metadata": {},
   "source": [
    "# Introduction"
   ]
  },
  {
   "cell_type": "markdown",
   "metadata": {},
   "source": [
    "Consider the following 2nd order system (Mass-Damper-Spring):\n",
    "\n",
    "$\\ddot{x} + \\dot{x} = 3x + x^2 = 0 \\Longleftrightarrow \\ddot{x} + c \\dot{x} + f(x) = 0$\n",
    "\n",
    "$c$ is the dampening force and $f(x)$ is the non-linear spring.  "
   ]
  },
  {
   "cell_type": "markdown",
   "metadata": {},
   "source": [
    "The system can be placed into the $\\dot{\\underline{x}} = \\underline{f}(\\underline{x})$ form:\n",
    "\n",
    "$\\begin{cases}\n",
    "    \\dot{x}_1 = x_2 \\\\\n",
    "    \\dot{x}_2 = -3x_1 - x_1^2 - x_2\n",
    "\\end{cases}$"
   ]
  },
  {
   "cell_type": "markdown",
   "metadata": {},
   "source": [
    "# Analysis of the system: Manual\n",
    "\n",
    "Analysis of the system $\\Rightarrow$ Phase Plane $(x_1, x_2)$:"
   ]
  },
  {
   "cell_type": "markdown",
   "metadata": {},
   "source": [
    "## Step 1: Find the Equillibrium Points:\n",
    "\n",
    "$\\begin{cases}\n",
    "    f_1(x_1, x_2) = 0 \\\\\n",
    "    f_2(x_2, x_2) = 0\n",
    "\\end{cases} \\Rightarrow\n",
    "\\begin{cases}\n",
    "    x_2 && = 0 \\\\\n",
    "    -3x_1 - x_1^2 - x_2 && = 0 \\, \\Rightarrow \\, -3x_1 - x_1^2 = 0\n",
    "\\end{cases}$\n",
    "\n",
    "$\\begin{cases}\n",
    "    x_2 = 0 \\\\\n",
    "    x_1(-3 - x_1) = 0\n",
    "\\end{cases} \\Rightarrow$ 2 equillibrium points $\\Rightarrow\n",
    "\\begin{cases}\n",
    "    \\underline{x}_1 = [0, 0]^T \\\\\n",
    "    \\underline{x}_2 = [-3, 0]^T\n",
    "\\end{cases}$"
   ]
  },
  {
   "cell_type": "markdown",
   "metadata": {},
   "source": [
    "## Step 2: Linearize the System Around the Equillibrium Points:\n",
    "\n",
    "$\\displaystyle\\dot{\\underline{x}} = \\underline{f}(\\underline{x}) \\Rightarrow \\approx \\underline{f}(\\underline{x}^*) + \\left . \\frac{\\partial \\underline{f}}{\\partial \\underline{x}} \\right |_{\\underline{x}^*} (\\underline{x} - \\underline{x}^*)$\n",
    "\n",
    "$\\displaystyle A = \\left . \\frac{\\partial\\underline{f}}{\\partial\\underline{x}} \\right |_{\\underline{x}_{1, \\, 2}^*} = \n",
    "\\begin{bmatrix}\n",
    "    0 && 1 \\\\\n",
    "    -3 - 2x_1 && -1\n",
    "\\end{bmatrix}_{\\underline{x}_1^*, \\, \\underline{x}_2^*}$"
   ]
  },
  {
   "cell_type": "markdown",
   "metadata": {},
   "source": [
    "### For $\\underline{x} = \\underline{x}_1$ \n",
    "\n",
    "We have the following system:\n",
    "\n",
    "$\\dot{\\underline{x}} = A_1 \\underline{x} \\Rightarrow A_1 = \n",
    "\\begin{bmatrix}\n",
    "    0 && 1 \\\\\n",
    "    -3 && -1\n",
    "\\end{bmatrix}$\n",
    "\n",
    "Look for the behavior of the system near $\\underline{x}_1 = \\underline{0}$.  e-value analysis:\n",
    "\n",
    "$\\det (A_1 - \\lambda I) = \n",
    "\\begin{vmatrix}\n",
    "    -\\lambda && 1 \\\\\n",
    "    -3 && -1 - \\lambda\n",
    "\\end{vmatrix}\n",
    "= \\lambda \\big(\\lambda + 1\\big) + 3 = 0$\n",
    "\n",
    "$\\Rightarrow \\lambda^2 + \\lambda + 3 = 0 \\Rightarrow \\lambda_{12} = -\\frac{1}{2} \\left( 1 \\pm \\sqrt{1 - 12}\\right) = -\\frac{1}{2} \\left( 1 \\pm \\sqrt{11} j\\right)$\n",
    "\n"
   ]
  },
  {
   "cell_type": "markdown",
   "metadata": {},
   "source": [
    "### For $\\underline{x} = \\underline{x}_2$\n",
    "\n",
    "We have the following system:\n",
    "\n",
    "$\\dot{\\underline{x}} = A_2 \\underline{x} \\Rightarrow A_2 = \n",
    "\\begin{bmatrix}\n",
    "    0 && 1 \\\\\n",
    "    3 && -1\n",
    "\\end{bmatrix}$\n",
    "\n",
    "Look for the behavior of the system near $\\underline{x}_2 = \\underline{0}$.  e-value analysis:\n",
    "\n",
    "$\\left|(A - \\lambda I ) \\right| = \n",
    "\\begin{vmatrix}\n",
    "    -\\lambda && 1 \\\\\n",
    "    3 && -1 - \\lambda\n",
    "\\end{vmatrix} = 0$\n",
    "\n",
    "$\\Rightarrow \\lambda \\left(\\lambda + 1 \\right) - 3 = 0 \\Rightarrow \\, \\lambda^2 + \\lambda - 3 = 0$\n",
    "\n",
    "$\\lambda = -\\frac{1}{2} \\left ( 1 \\pm \\sqrt{1 + 12} \\right) = - \\frac{1}{2} \\pm \\frac{1}{2} \\sqrt{13}$\n",
    "\n",
    "Note that both solutions of $\\lambda$ are REAL!  Therefore:\n",
    "\n",
    "$\\begin{matrix}\n",
    "    \\lambda_1 = -\\frac{1}{2} \\left( 1 - \\sqrt{13} \\right ) > 0 \\\\\n",
    "    \\lambda_2 = -\\frac{1}{2} \\left( 1 + \\sqrt{13} \\right ) < 0\n",
    "\\end{matrix} \\Rightarrow \\text{ Unstable } \\Rightarrow \\underline{\\text{Saddle Point}}$\n",
    "\n",
    "Compute the e-vectors $\\underline{v}_1,\\, \\underline{v}_2$ to determine the direction of convergence"
   ]
  },
  {
   "cell_type": "markdown",
   "metadata": {},
   "source": [
    "## Step 3: Put Everything Together:"
   ]
  },
  {
   "cell_type": "markdown",
   "metadata": {},
   "source": [
    "## !!!!! TODO: Insert Graphic !!!!!"
   ]
  },
  {
   "cell_type": "markdown",
   "metadata": {},
   "source": [
    "# Analysis of the System: Python"
   ]
  },
  {
   "cell_type": "markdown",
   "metadata": {},
   "source": [
    "Given that:\n",
    "\n",
    "$\\begin{cases}\n",
    "    \\dot{x}_1 = f_1(x_1, x_2) = x_2 \\\\\n",
    "    \\dot{x}_2 = f_2(x_2, x_2) = -3x_1 - x_1^2 - x_2\n",
    "\\end{cases}$\n",
    "\n",
    "We can define two variables to these functions:"
   ]
  },
  {
   "cell_type": "code",
   "execution_count": 7,
   "metadata": {
    "collapsed": false
   },
   "outputs": [],
   "source": [
    "f_1 = x_2\n",
    "f_2 = -3 * x_1 - x_1 ** 2 - x_2"
   ]
  },
  {
   "cell_type": "markdown",
   "metadata": {},
   "source": [
    "We can solve the system of equations using the `solve` function."
   ]
  },
  {
   "cell_type": "code",
   "execution_count": 8,
   "metadata": {
    "collapsed": false
   },
   "outputs": [
    {
     "data": {
      "image/png": "[encoded data removed]",
      "text/latex": [
       "$$\\left [ \\left \\{ x_{1} : -3, \\quad x_{2} : 0\\right \\}, \\quad \\left \\{ x_{1} : 0, \\quad x_{2} : 0\\right \\}\\right ]$$"
      ],
      "text/plain": [
       "[{x₁: -3, x₂: 0}, {x₁: 0, x₂: 0}]"
      ]
     },
     "execution_count": 8,
     "metadata": {},
     "output_type": "execute_result"
    }
   ],
   "source": [
    "slns = solve([f_1, f_2])\n",
    "slns"
   ]
  },
  {
   "cell_type": "markdown",
   "metadata": {},
   "source": [
    "We get the same solutions that we found previously.  "
   ]
  },
  {
   "cell_type": "markdown",
   "metadata": {},
   "source": [
    "To linearize the system, we need to take the derivatives of each function with respect to $x_1$ and $x_2$.  We'll compile this into a matrix A_1 like so:"
   ]
  },
  {
   "cell_type": "code",
   "execution_count": 35,
   "metadata": {
    "collapsed": false
   },
   "outputs": [
    {
     "data": {
      "image/png": "[encoded data removed]",
      "text/latex": [
       "$$\\left[\\begin{matrix}0 & 1\\\\- 2 x_{1} - 3 & -1\\end{matrix}\\right]$$"
      ],
      "text/plain": [
       "⎡    0      1 ⎤\n",
       "⎢             ⎥\n",
       "⎣-2⋅x₁ - 3  -1⎦"
      ]
     },
     "execution_count": 35,
     "metadata": {},
     "output_type": "execute_result"
    }
   ],
   "source": [
    "A = Matrix([[diff(f_1, x_1), diff(f_1, x_2)], [diff(f_2, x_1), diff(f_2, x_2)]])\n",
    "A"
   ]
  },
  {
   "cell_type": "markdown",
   "metadata": {},
   "source": [
    "Now we let $\\dot{\\underline{x}} = A_1 \\, \\underline{x}$.  Therefore `A_1` would be:"
   ]
  },
  {
   "cell_type": "code",
   "execution_count": 37,
   "metadata": {
    "collapsed": false
   },
   "outputs": [
    {
     "data": {
      "image/png": "[encoded data removed]",
      "text/latex": [
       "$$\\left[\\begin{matrix}0 & 1\\\\-3 & -1\\end{matrix}\\right]$$"
      ],
      "text/plain": [
       "⎡0   1 ⎤\n",
       "⎢      ⎥\n",
       "⎣-3  -1⎦"
      ]
     },
     "execution_count": 37,
     "metadata": {},
     "output_type": "execute_result"
    }
   ],
   "source": [
    "A_1 = Matrix([[0, 1], [-3, -1]])\n",
    "A_1"
   ]
  },
  {
   "cell_type": "markdown",
   "metadata": {},
   "source": [
    "Next we find the determinate of $A_1 - \\lambda I$"
   ]
  },
  {
   "cell_type": "code",
   "execution_count": 40,
   "metadata": {
    "collapsed": false
   },
   "outputs": [
    {
     "data": {
      "image/png": "[encoded data removed]",
      "text/latex": [
       "$$λ^{2} + λ + 3$$"
      ],
      "text/plain": [
       " 2        \n",
       "λ  + λ + 3"
      ]
     },
     "execution_count": 40,
     "metadata": {},
     "output_type": "execute_result"
    }
   ],
   "source": [
    "λ_fun = det(A_1 - λ * eye(2))\n",
    "λ_fun"
   ]
  },
  {
   "cell_type": "code",
   "execution_count": 42,
   "metadata": {
    "collapsed": false
   },
   "outputs": [
    {
     "data": {
      "image/png": "[encoded data removed]",
      "text/latex": [
       "$$\\left [ - \\frac{1}{2} - \\frac{\\sqrt{11} i}{2}, \\quad - \\frac{1}{2} + \\frac{\\sqrt{11} i}{2}\\right ]$$"
      ],
      "text/plain": [
       "⎡  1   √11⋅ⅈ    1   √11⋅ⅈ⎤\n",
       "⎢- ─ - ─────, - ─ + ─────⎥\n",
       "⎣  2     2      2     2  ⎦"
      ]
     },
     "execution_count": 42,
     "metadata": {},
     "output_type": "execute_result"
    }
   ],
   "source": [
    "solve(λ_fun)"
   ]
  },
  {
   "cell_type": "code",
   "execution_count": null,
   "metadata": {
    "collapsed": true
   },
   "outputs": [],
   "source": []
  }
 ],
 "metadata": {
  "kernelspec": {
   "display_name": "Python 3",
   "language": "python",
   "name": "python3"
  },
  "language_info": {
   "codemirror_mode": {
    "name": "ipython",
    "version": 3
   },
   "file_extension": ".py",
   "mimetype": "text/x-python",
   "name": "python",
   "nbconvert_exporter": "python",
   "pygments_lexer": "ipython3",
   "version": "3.5.1"
  }
 },
 "nbformat": 4,
 "nbformat_minor": 0
}
